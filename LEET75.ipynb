{
 "cells": [
  {
   "cell_type": "markdown",
   "metadata": {},
   "source": [
    "# 1768. Merge Strings Alternately\n",
    "\n",
    "You are given two strings word1 and word2. Merge the strings by adding letters in alternating order, starting with word1. If a string is longer than the other, append the additional letters onto the end of the merged string.\n",
    "\n",
    "Return the merged string.\n",
    "\n",
    "`Example 1:`\n",
    "\n",
    "Input: word1 = \"abc\", word2 = \"pqr\"\n",
    "\n",
    "Output: \"apbqcr\"\n",
    "\n",
    "Explanation: The merged string will be merged as so:\n",
    "\n",
    "word1: a b c\n",
    "\n",
    "word2: p q r\n",
    "\n",
    "merged: a p b q c r\n"
   ]
  },
  {
   "cell_type": "code",
   "execution_count": 1,
   "metadata": {},
   "outputs": [],
   "source": [
    "def merge(str1, str2):\n",
    "    merged = \"\"\n",
    "    n = min(len(str2), len(str1))\n",
    "    for i in range(n):\n",
    "        merged += str1[i] + str2[i]\n",
    "\n",
    "    merged += str1[n:] + str2[n:]\n",
    "\n",
    "    return merged"
   ]
  },
  {
   "cell_type": "code",
   "execution_count": 2,
   "metadata": {},
   "outputs": [
    {
     "data": {
      "text/plain": [
       "'aybbssghhgf'"
      ]
     },
     "execution_count": 2,
     "metadata": {},
     "output_type": "execute_result"
    }
   ],
   "source": [
    "merge(\"absg\", \"ybshhgf\")"
   ]
  },
  {
   "cell_type": "markdown",
   "metadata": {},
   "source": [
    "# 1071. Greatest Common Divisor of Strings\n",
    "\n",
    "For two strings s and t, we say \"t divides s\" `if and only if s = t + t + t + ... + t + t` (i.e., t is concatenated with itself one or more times).\n",
    "\n",
    "Given two strings str1 and str2, return the largest string x such that x divides both str1 and str2.\n"
   ]
  },
  {
   "cell_type": "code",
   "execution_count": 3,
   "metadata": {},
   "outputs": [],
   "source": [
    "class Solution(object):\n",
    "    def gcdOfStrings(self, str1, str2):\n",
    "        if str1 + str2 != str2 + str1:  # if s = t , t must equal s\n",
    "            return \"\"\n",
    "        if len(str1) == len(str2):\n",
    "            return str1\n",
    "        if len(str1) > len(str2):\n",
    "            return self.gcdOfStrings(\n",
    "                str1[len(str2) :], str2\n",
    "            )  # So now elements of string1 \"till the length of string2\" will move again and by SECOND-IF we will get result.\n",
    "        return self.gcdOfStrings(\n",
    "            str1, str2[len(str1) :]\n",
    "        )  # this is the case when Str2>Str1"
   ]
  },
  {
   "cell_type": "code",
   "execution_count": 4,
   "metadata": {},
   "outputs": [
    {
     "data": {
      "text/plain": [
       "'ABC'"
      ]
     },
     "execution_count": 4,
     "metadata": {},
     "output_type": "execute_result"
    }
   ],
   "source": [
    "a = Solution()\n",
    "a.gcdOfStrings(\"ABCABC\", \"ABC\")"
   ]
  },
  {
   "cell_type": "markdown",
   "metadata": {},
   "source": [
    "# 1431. Kids With the Greatest Number of Candies\n",
    "\n",
    "There are n kids with candies. You are given an integer array candies, where each candies[i] represents the number of candies the ith kid has, and an integer extraCandies, denoting the number of extra candies that you have.\n",
    "\n",
    "Return a boolean array result of length n, where result[i] is true if, after giving the ith kid all the extraCandies, they will have the greatest number of candies among all the kids, or false otherwise.\n",
    "\n",
    "Note that multiple kids can have the greatest number of candies.\n"
   ]
  },
  {
   "cell_type": "code",
   "execution_count": 5,
   "metadata": {},
   "outputs": [
    {
     "data": {
      "text/plain": [
       "' Alternatively we could have just use for i in range (candies): return_arr.append(candies[i]+extraCandies >=max_num) as Boolean operators give answers in TRUE/FALSE only'"
      ]
     },
     "execution_count": 5,
     "metadata": {},
     "output_type": "execute_result"
    }
   ],
   "source": [
    "class Solution(object):\n",
    "    def kidsWithCandies(self, candies, extraCandies):\n",
    "        max_num = 0\n",
    "        result_arr = []\n",
    "        for i in range(len(candies)):\n",
    "            if candies[i] > max_num:\n",
    "                max_num = candies[i]\n",
    "        for i in range(len(candies)):\n",
    "            if candies[i] + extraCandies >= max_num:\n",
    "                result_arr.append(\"true\")\n",
    "            else:\n",
    "                result_arr.append(\"false\")\n",
    "\n",
    "        return result_arr\n",
    "\n",
    "\n",
    "\"\"\" Alternatively we could have just use for i in range (candies): return_arr.append(candies[i]+extraCandies >=max_num) as Boolean operators give answers in TRUE/FALSE only\"\"\""
   ]
  },
  {
   "cell_type": "code",
   "execution_count": 6,
   "metadata": {},
   "outputs": [
    {
     "data": {
      "text/plain": [
       "['true', 'false', 'false', 'false', 'false']"
      ]
     },
     "execution_count": 6,
     "metadata": {},
     "output_type": "execute_result"
    }
   ],
   "source": [
    "a = Solution()\n",
    "a.kidsWithCandies([4, 2, 1, 1, 2], 1)"
   ]
  },
  {
   "cell_type": "markdown",
   "metadata": {},
   "source": [
    "# 605. Can Place Flowers\n",
    "\n",
    "You have a long flowerbed in which some of the plots are planted, and some are not. However, flowers cannot be planted in adjacent plots.\n",
    "\n",
    "Given an integer array flowerbed containing 0's and 1's, where 0 means empty and 1 means not empty, and an integer n, return true if n new flowers can be planted in the flowerbed without violating the no-adjacent-flowers rule and false otherwise.\n"
   ]
  },
  {
   "cell_type": "code",
   "execution_count": 7,
   "metadata": {},
   "outputs": [
    {
     "data": {
      "text/plain": [
       "' Alternatively we can also add [1,0] or [0,1] to escape the out of bounds problem'"
      ]
     },
     "execution_count": 7,
     "metadata": {},
     "output_type": "execute_result"
    }
   ],
   "source": [
    "class Solution(object):\n",
    "    def canPlaceFlowers(self, flowerbed, n):\n",
    "        for i in range(len(flowerbed)):\n",
    "            left = i == 0 or flowerbed[i - 1] == 0  # here it gives left as TRUE\n",
    "            right = (\n",
    "                i == len(flowerbed) - 1 or flowerbed[i + 1] == 0\n",
    "            )  # here it returns right as TRUE\n",
    "\n",
    "            if (\n",
    "                left and right and flowerbed[i] == 0\n",
    "            ):  # here all there conditions must be TRUE so it'll execute\n",
    "                flowerbed[i] = 1\n",
    "                n -= 1\n",
    "\n",
    "        return n <= 0\n",
    "\n",
    "\n",
    "\"\"\" Alternatively we can also add [1,0] or [0,1] to escape the out of bounds problem\"\"\""
   ]
  },
  {
   "cell_type": "code",
   "execution_count": 8,
   "metadata": {},
   "outputs": [
    {
     "data": {
      "text/plain": [
       "True"
      ]
     },
     "execution_count": 8,
     "metadata": {},
     "output_type": "execute_result"
    }
   ],
   "source": [
    "a = Solution()\n",
    "a.canPlaceFlowers([1, 0, 0, 0, 1], n=1)"
   ]
  },
  {
   "cell_type": "markdown",
   "metadata": {},
   "source": [
    "# 345. Reverse Vowels of a String\n",
    "\n",
    "Given a string s, reverse only all the vowels in the string and return it.\n",
    "\n",
    "The vowels are 'a', 'e', 'i', 'o', and 'u', and they can appear in both lower and upper cases, more than once.\n"
   ]
  },
  {
   "cell_type": "code",
   "execution_count": 9,
   "metadata": {},
   "outputs": [
    {
     "data": {
      "text/plain": [
       "'Alternatively you can convert it in list and with the help of nested while loops take one pointer from front(i.e LEFT) and one from end(i.e RIGHT) traverse the list to meet them in center i.e First condition should be left<right then an incremental while loop for left and decreasing while for right.... 1 main.. two nested.. then swap and inc/dec both again'"
      ]
     },
     "execution_count": 9,
     "metadata": {},
     "output_type": "execute_result"
    }
   ],
   "source": [
    "class Solution(object):\n",
    "\n",
    "    def reverseVowels(self, s):\n",
    "        reverse = \"\"\n",
    "        Vowels = set([\"a\", \"e\", \"i\", \"u\", \"o\", \"A\", \"E\", \"I\", \"O\", \"U\"])\n",
    "        backpointer = len(s)\n",
    "        for i in range(len(s)):\n",
    "            if s[i] in Vowels:\n",
    "                backpointer -= 1\n",
    "                while (s[backpointer]) not in Vowels:\n",
    "                    backpointer -= 1\n",
    "                reverse += s[backpointer]\n",
    "            else:\n",
    "                reverse += s[i]\n",
    "\n",
    "        return reverse\n",
    "\n",
    "\n",
    "\"\"\"Alternatively you can convert it in list and with the help of nested while loops take one pointer from front(i.e LEFT) and one from end(i.e RIGHT) traverse the list to meet them in center i.e First condition should be left<right then an incremental while loop for left and decreasing while for right.... 1 main.. two nested.. then swap and inc/dec both again\"\"\""
   ]
  },
  {
   "cell_type": "code",
   "execution_count": 10,
   "metadata": {},
   "outputs": [
    {
     "data": {
      "text/plain": [
       "'SASHUNT'"
      ]
     },
     "execution_count": 10,
     "metadata": {},
     "output_type": "execute_result"
    }
   ],
   "source": [
    "a = Solution()\n",
    "a.reverseVowels(\"SUSHANT\")"
   ]
  },
  {
   "cell_type": "code",
   "execution_count": null,
   "metadata": {},
   "outputs": [],
   "source": []
  }
 ],
 "metadata": {
  "kernelspec": {
   "display_name": "Python 3",
   "language": "python",
   "name": "python3"
  },
  "language_info": {
   "codemirror_mode": {
    "name": "ipython",
    "version": 3
   },
   "file_extension": ".py",
   "mimetype": "text/x-python",
   "name": "python",
   "nbconvert_exporter": "python",
   "pygments_lexer": "ipython3",
   "version": "3.12.3"
  }
 },
 "nbformat": 4,
 "nbformat_minor": 2
}
