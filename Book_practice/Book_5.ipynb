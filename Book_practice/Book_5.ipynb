{
 "cells": [
  {
   "cell_type": "code",
   "execution_count": 2,
   "metadata": {},
   "outputs": [
    {
     "name": "stdout",
     "output_type": "stream",
     "text": [
      "{2, 3, 4, 5, 6, 7}\n"
     ]
    }
   ],
   "source": [
    "a = {1, 2, 3, 4, 5, 6, 7}\n",
    "a.pop()\n",
    "print(a)"
   ]
  },
  {
   "cell_type": "markdown",
   "metadata": {},
   "source": [
    "# Class Array(ADT) as repackaged form of Python List\n"
   ]
  },
  {
   "cell_type": "code",
   "execution_count": 3,
   "metadata": {},
   "outputs": [],
   "source": [
    "# first we setup a error class for empty Array\n",
    "class Empty(Exception):\n",
    "    pass\n",
    "\n",
    "\n",
    "class Array:\n",
    "    def __init__(self):\n",
    "        self._data = []\n",
    "\n",
    "    def __len__(self):\n",
    "        return len(self._data)\n",
    "\n",
    "    def is_empty(self):\n",
    "        return len(self._data) == 0  # Direct bool application no if else bs\n",
    "\n",
    "    def push(self, a):\n",
    "        self._data.append(a)\n",
    "\n",
    "    def top(self):\n",
    "        if self.is_empty():\n",
    "            raise Empty(\"Empty\")\n",
    "        return self._data[-1]\n",
    "\n",
    "    def pop(self):\n",
    "        if self.is_empty():\n",
    "            raise Empty(\"Empty\")\n",
    "        return self._data.pop()"
   ]
  },
  {
   "cell_type": "code",
   "execution_count": 4,
   "metadata": {},
   "outputs": [],
   "source": [
    "def reverse_file(filename):\n",
    "    S = Array()\n",
    "    original = open(filename)\n",
    "    for line in original:\n",
    "        S.push(line.rstrip(\"\\n\"))\n",
    "    original.close()\n",
    "\n",
    "    output = open(filename, \"w\")\n",
    "    while not S.is_empty():\n",
    "        output.write(S.pop() + \"\\n\")\n",
    "    output.close()"
   ]
  },
  {
   "cell_type": "code",
   "execution_count": 5,
   "metadata": {},
   "outputs": [],
   "source": [
    "reverse_file(filename=\"gibberish.txt\")"
   ]
  },
  {
   "cell_type": "code",
   "execution_count": 6,
   "metadata": {},
   "outputs": [],
   "source": [
    "def is_mismatched(expr):\n",
    "    left = \"[{(\"\n",
    "    right = \"]})\"\n",
    "    S = Array()\n",
    "    for c in expr:\n",
    "        if c in left:\n",
    "            S.push(c)  # here the charc is pushed into the stack if valid in left\n",
    "        elif c in right:\n",
    "            if S.is_empty():\n",
    "                return (\n",
    "                    False  # so if the charc is found in right but stack is empty false\n",
    "                )\n",
    "            if right.index(c) != left.index(S.pop()):\n",
    "                print(right.index(c))\n",
    "                return False  # here if the charc is found in right but the index of char in right doesn't match with the index of charc that is poped from stack but measured in left then false\\\n",
    "    return S.is_empty()"
   ]
  },
  {
   "cell_type": "code",
   "execution_count": 7,
   "metadata": {},
   "outputs": [
    {
     "name": "stdout",
     "output_type": "stream",
     "text": [
      "2\n"
     ]
    },
    {
     "data": {
      "text/plain": [
       "False"
      ]
     },
     "execution_count": 7,
     "metadata": {},
     "output_type": "execute_result"
    }
   ],
   "source": [
    "is_mismatched(\"({)\")"
   ]
  },
  {
   "cell_type": "code",
   "execution_count": 8,
   "metadata": {},
   "outputs": [],
   "source": [
    "def is_mismatched_html(raw: str):\n",
    "    S = Array()\n",
    "    j = raw.find(\"<\")\n",
    "    while j != -1:\n",
    "        k = raw.find(\">\", j + 1)\n",
    "        print(f\"This is K:{k}\")\n",
    "        if k == -1:\n",
    "            return False\n",
    "        tag = raw[j + 1 : k]\n",
    "        print(tag)\n",
    "        if not tag.startswith(\"/\"):\n",
    "            S.push(tag)\n",
    "        else:\n",
    "            if S.is_empty():\n",
    "                return False\n",
    "            if tag[1:] != S.pop():\n",
    "                return False\n",
    "        j = raw.find(\"<\", k + 1)\n",
    "\n",
    "    return S.is_empty()"
   ]
  },
  {
   "cell_type": "code",
   "execution_count": 9,
   "metadata": {},
   "outputs": [],
   "source": [
    "class ArrayQueue:\n",
    "    DEFAULT_Cap = 10\n",
    "\n",
    "    def __init__(self):\n",
    "        self._data = [\n",
    "            None\n",
    "        ] * ArrayQueue.DEFAULT_Cap  # Length of list or total available space\n",
    "        self._size = 0  # Length of QUEUE currently\n",
    "        self._front = 0  # Index of first element\n",
    "\n",
    "    def __len__(self):  # length of queue\n",
    "        return self._size\n",
    "\n",
    "    def is_empty(self):\n",
    "        return self._size == 0\n",
    "\n",
    "    def first(self):\n",
    "        if self.is_empty():\n",
    "            raise Empty(\"Empty\")\n",
    "        return self._data[self._front]  # Value at [Index Front] of queue Data\n",
    "\n",
    "    def dequeue(self):\n",
    "        if self.is_empty():\n",
    "            raise Empty(\"Empty\")\n",
    "        answer = self._data[self._front]\n",
    "        self._data[self._front] = None\n",
    "        self._front = (self._front + 1) % len(self._data)  # shifting the value of front\n",
    "        self._size -= 1\n",
    "        return answer\n",
    "\n",
    "    def enqueue(self, a):\n",
    "        if self._size == len(self._data):\n",
    "            self._resize(2 * len(self._data))\n",
    "\n",
    "        avail = (self._front + self._size) % len(\n",
    "            self._data\n",
    "        )  # shifting the index to where the last element in and plus 1.\n",
    "        self._data[avail] = a\n",
    "        self._size += 1\n",
    "\n",
    "    def resize(self, cap):\n",
    "        old = self._data\n",
    "        self._data = [None] * cap\n",
    "        walk = self._front\n",
    "        for k in range(self._size):\n",
    "            self._data[k] = old[\n",
    "                walk\n",
    "            ]  # now walk stores the index of Front and we start putting data in new queue one by one starting from front\n",
    "            walk = (walk + 1) % len(old)\n",
    "\n",
    "        self._front = 0"
   ]
  },
  {
   "cell_type": "markdown",
   "metadata": {},
   "source": [
    "# Exercises\n"
   ]
  },
  {
   "cell_type": "code",
   "execution_count": null,
   "metadata": {},
   "outputs": [],
   "source": []
  }
 ],
 "metadata": {
  "kernelspec": {
   "display_name": "Python 3",
   "language": "python",
   "name": "python3"
  },
  "language_info": {
   "codemirror_mode": {
    "name": "ipython",
    "version": 3
   },
   "file_extension": ".py",
   "mimetype": "text/x-python",
   "name": "python",
   "nbconvert_exporter": "python",
   "pygments_lexer": "ipython3",
   "version": "3.12.3"
  }
 },
 "nbformat": 4,
 "nbformat_minor": 2
}
