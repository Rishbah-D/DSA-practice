{
 "cells": [
  {
   "cell_type": "code",
   "execution_count": 3,
   "metadata": {},
   "outputs": [],
   "source": [
    "# first we setup a error class for empty Array\n",
    "class Empty(Exception):\n",
    "    pass\n",
    "\n",
    "\n",
    "class Array:\n",
    "    def __init__(self):\n",
    "        self._data = []\n",
    "\n",
    "    def __len__(self):\n",
    "        return len(self._data)\n",
    "\n",
    "    def is_empty(self):\n",
    "        return len(self._data) == 0  # Direct bool application no if else bs\n",
    "\n",
    "    def push(self, a):\n",
    "        self._data.append(a)\n",
    "\n",
    "    def top(self):\n",
    "        if self.is_empty():\n",
    "            raise Empty(\"Empty\")\n",
    "        return self._data[-1]\n",
    "\n",
    "    def pop(self):\n",
    "        if self.is_empty():\n",
    "            raise Empty(\"Empty\")\n",
    "        return self._data.pop()"
   ]
  },
  {
   "cell_type": "code",
   "execution_count": 34,
   "metadata": {},
   "outputs": [],
   "source": [
    "# Dynamic Array class\n",
    "import ctypes\n",
    "\n",
    "\n",
    "class DynamicArray:\n",
    "    def __init__(self) -> None:\n",
    "        self._n = 0\n",
    "        self._capacity = 1  # default capacity\n",
    "        self._A = self._make_array(\n",
    "            self._capacity\n",
    "        )  # array of size 1 index 0 created at initialisation of class\n",
    "\n",
    "    def __len__(self):\n",
    "        return self._n\n",
    "\n",
    "    def __getitem__(self, k):  # k passed here as index\n",
    "\n",
    "        if not 0 <= k < self._n:  # check the range and positive nature\n",
    "            raise IndexError(\"invalid index\")\n",
    "        return self._A[k]\n",
    "\n",
    "    def append(self, obj):\n",
    "\n",
    "        if self._n == self._capacity:\n",
    "            self._resize(2 * self._capacity)\n",
    "            self._A[self._n] = obj\n",
    "            self._n += 1\n",
    "\n",
    "    def _resize(self, c):\n",
    "\n",
    "        B = self._make_array(c)\n",
    "        for k in range(self._n):\n",
    "            B[k] = self._A[k]\n",
    "        self._A = B\n",
    "        self._capacity = c\n",
    "\n",
    "    def _make_array(self, c):\n",
    "        return (c * ctypes.py_object)()"
   ]
  },
  {
   "cell_type": "code",
   "execution_count": 4,
   "metadata": {},
   "outputs": [],
   "source": [
    "def reverse_file(filename):\n",
    "    S = Array()\n",
    "    original = open(filename)\n",
    "    for line in original:\n",
    "        S.push(line.rstrip(\"\\n\"))\n",
    "    original.close()\n",
    "\n",
    "    output = open(filename, \"w\")\n",
    "    while not S.is_empty():\n",
    "        output.write(S.pop() + \"\\n\")\n",
    "    output.close()"
   ]
  },
  {
   "cell_type": "code",
   "execution_count": 5,
   "metadata": {},
   "outputs": [],
   "source": [
    "reverse_file(filename=\"gibberish.txt\")"
   ]
  },
  {
   "cell_type": "code",
   "execution_count": 6,
   "metadata": {},
   "outputs": [],
   "source": [
    "def is_mismatched(expr):\n",
    "    left = \"[{(\"\n",
    "    right = \"]})\"\n",
    "    S = Array()\n",
    "    for c in expr:\n",
    "        if c in left:\n",
    "            S.push(c)  # here the charc is pushed into the stack if valid in left\n",
    "        elif c in right:\n",
    "            if S.is_empty():\n",
    "                return (\n",
    "                    False  # so if the charc is found in right but stack is empty false\n",
    "                )\n",
    "            if right.index(c) != left.index(S.pop()):\n",
    "                print(right.index(c))\n",
    "                return False  # here if the charc is found in right but the index of char in right doesn't match with the index of charc that is poped from stack but measured in left then false\\\n",
    "    return S.is_empty()"
   ]
  },
  {
   "cell_type": "code",
   "execution_count": 7,
   "metadata": {},
   "outputs": [
    {
     "name": "stdout",
     "output_type": "stream",
     "text": [
      "2\n"
     ]
    },
    {
     "data": {
      "text/plain": [
       "False"
      ]
     },
     "execution_count": 7,
     "metadata": {},
     "output_type": "execute_result"
    }
   ],
   "source": [
    "is_mismatched(\"({)\")"
   ]
  },
  {
   "cell_type": "code",
   "execution_count": 8,
   "metadata": {},
   "outputs": [],
   "source": [
    "def is_mismatched_html(raw: str):\n",
    "    S = Array()\n",
    "    j = raw.find(\"<\")\n",
    "    while j != -1:\n",
    "        k = raw.find(\">\", j + 1)\n",
    "        print(f\"This is K:{k}\")\n",
    "        if k == -1:\n",
    "            return False\n",
    "        tag = raw[j + 1 : k]\n",
    "        print(tag)\n",
    "        if not tag.startswith(\"/\"):\n",
    "            S.push(tag)\n",
    "        else:\n",
    "            if S.is_empty():\n",
    "                return False\n",
    "            if tag[1:] != S.pop():\n",
    "                return False\n",
    "        j = raw.find(\"<\", k + 1)\n",
    "\n",
    "    return S.is_empty()"
   ]
  },
  {
   "cell_type": "code",
   "execution_count": 9,
   "metadata": {},
   "outputs": [],
   "source": [
    "class ArrayQueue:\n",
    "    DEFAULT_Cap = 10\n",
    "\n",
    "    def __init__(self):\n",
    "        self._data = [\n",
    "            None\n",
    "        ] * ArrayQueue.DEFAULT_Cap  # Length of list or total available space\n",
    "        self._size = 0  # Length of QUEUE currently\n",
    "        self._front = 0  # Index of first element\n",
    "\n",
    "    def __len__(self):  # length of queue\n",
    "        return self._size\n",
    "\n",
    "    def is_empty(self):\n",
    "        return self._size == 0\n",
    "\n",
    "    def first(self):\n",
    "        if self.is_empty():\n",
    "            raise Empty(\"Empty\")\n",
    "        return self._data[self._front]  # Value at [Index Front] of queue Data\n",
    "\n",
    "    def dequeue(self):\n",
    "        if self.is_empty():\n",
    "            raise Empty(\"Empty\")\n",
    "        answer = self._data[self._front]\n",
    "        self._data[self._front] = None\n",
    "        self._front = (self._front + 1) % len(self._data)  # shifting the value of front\n",
    "        self._size -= 1\n",
    "        return answer\n",
    "\n",
    "    def enqueue(self, a):\n",
    "        if self._size == len(self._data):\n",
    "            self._resize(2 * len(self._data))\n",
    "\n",
    "        avail = (self._front + self._size) % len(\n",
    "            self._data\n",
    "        )  # shifting the index to where the last element in and plus 1.\n",
    "        self._data[avail] = a\n",
    "        self._size += 1\n",
    "\n",
    "    def resize(self, cap):\n",
    "        old = self._data\n",
    "        self._data = [None] * cap\n",
    "        walk = self._front\n",
    "        for k in range(self._size):\n",
    "            self._data[k] = old[\n",
    "                walk\n",
    "            ]  # now walk stores the index of Front and we start putting data in new queue one by one starting from front\n",
    "            walk = (walk + 1) % len(old)\n",
    "\n",
    "        self._front = 0"
   ]
  },
  {
   "cell_type": "markdown",
   "metadata": {},
   "source": [
    "# Exercises\n"
   ]
  },
  {
   "cell_type": "markdown",
   "metadata": {},
   "source": [
    "# Q1\n",
    "\n",
    "Execute the experiment from Code Fragment 5.1 and compare the results\n",
    "on your system to those we report in Code Fragment 5.2.\n"
   ]
  },
  {
   "cell_type": "code",
   "execution_count": 1,
   "metadata": {},
   "outputs": [
    {
     "name": "stdout",
     "output_type": "stream",
     "text": [
      "Length :  0; Size in bytes:  56\n",
      "Length :  1; Size in bytes:  88\n",
      "Length :  2; Size in bytes:  88\n",
      "Length :  3; Size in bytes:  88\n",
      "Length :  4; Size in bytes:  88\n",
      "Length :  5; Size in bytes: 120\n",
      "Length :  6; Size in bytes: 120\n",
      "Length :  7; Size in bytes: 120\n",
      "Length :  8; Size in bytes: 120\n",
      "Length :  9; Size in bytes: 184\n",
      "Length : 10; Size in bytes: 184\n",
      "Length : 11; Size in bytes: 184\n",
      "Length : 12; Size in bytes: 184\n",
      "Length : 13; Size in bytes: 184\n",
      "Length : 14; Size in bytes: 184\n",
      "Length : 15; Size in bytes: 184\n",
      "Length : 16; Size in bytes: 184\n",
      "Length : 17; Size in bytes: 248\n",
      "Length : 18; Size in bytes: 248\n",
      "Length : 19; Size in bytes: 248\n",
      "Length : 20; Size in bytes: 248\n",
      "Length : 21; Size in bytes: 248\n",
      "Length : 22; Size in bytes: 248\n",
      "Length : 23; Size in bytes: 248\n",
      "Length : 24; Size in bytes: 248\n",
      "Length : 25; Size in bytes: 312\n",
      "Length : 26; Size in bytes: 312\n"
     ]
    }
   ],
   "source": [
    "import sys\n",
    "\n",
    "data = []\n",
    "for k in range(27):\n",
    "    a = len(data)\n",
    "    b = sys.getsizeof(data)\n",
    "    print(\"Length :{0:3d}; Size in bytes:{1:4d}\".format(a, b))\n",
    "    data.append(None)"
   ]
  },
  {
   "cell_type": "markdown",
   "metadata": {},
   "source": [
    "# Q2\n",
    "\n",
    "In Code Fragment 5.1, we perform an experiment to compare the length of\n",
    "a Python list to its underlying memory usage. Determining the sequence\n",
    "of array sizes requires a manual inspection of the output of that program.\n",
    "Redesign the experiment so that the program outputs only those values of\n",
    "k at which the existing capacity is exhausted. For example, on a system\n",
    "consistent with the results of Code Fragment 5.2, your program should\n",
    "output that the sequence of array capacities are 0, 4, 8, 16, 25, ....\n"
   ]
  },
  {
   "cell_type": "code",
   "execution_count": 11,
   "metadata": {},
   "outputs": [
    {
     "name": "stdout",
     "output_type": "stream",
     "text": [
      "[0, 4, 8, 16, 24]\n"
     ]
    }
   ],
   "source": [
    "import sys\n",
    "\n",
    "data = []\n",
    "tracker = 0\n",
    "seq_cap = []\n",
    "for k in range(27):\n",
    "    a = len(data)\n",
    "    b = sys.getsizeof(data)\n",
    "    if (\n",
    "        b > tracker and k > 0\n",
    "    ):  # \"k>0 is necessary as it prevents the addition of [-1] to the output list because b by default will be greater than tracker for iteration \"\n",
    "\n",
    "        tracker = b\n",
    "        seq_cap.append(a - 1)\n",
    "\n",
    "    data.append(None)\n",
    "print(seq_cap)"
   ]
  },
  {
   "cell_type": "markdown",
   "metadata": {},
   "source": [
    "# Q3\n",
    "\n",
    "Modify the experiment from Code Fragment 5.1 in order to demonstrate\n",
    "that Python’s list class occasionally shrinks the size of its underlying array\n",
    "when elements are popped from a list.\n"
   ]
  },
  {
   "cell_type": "code",
   "execution_count": 33,
   "metadata": {},
   "outputs": [
    {
     "name": "stdout",
     "output_type": "stream",
     "text": [
      "Length: 100 Size: 920\n",
      "Length: 50 Size: 568\n",
      "Length: 0 Size: 56\n"
     ]
    }
   ],
   "source": [
    "# creating a random list with 100 values......\n",
    "import random, sys\n",
    "\n",
    "a = []\n",
    "for i in range(0, 100):\n",
    "    a.append(random.randint(0, 100))\n",
    "print(\"Length:\", len(a), \"Size:\", sys.getsizeof(a))\n",
    "\n",
    "# mow moifying the code fragment to show memory optimisation i.e size shinkage\n",
    "# poping 50 elements\n",
    "for i in range(0, 50):\n",
    "    a.pop()\n",
    "\n",
    "print(\"Length:\", len(a), \"Size:\", sys.getsizeof(a))\n",
    "\n",
    "for i in range(0, 50):\n",
    "    a.pop()\n",
    "\n",
    "print(\"Length:\", len(a), \"Size:\", sys.getsizeof(a))"
   ]
  },
  {
   "cell_type": "code",
   "execution_count": 40,
   "metadata": {},
   "outputs": [
    {
     "data": {
      "text/plain": [
       "1"
      ]
     },
     "execution_count": 40,
     "metadata": {},
     "output_type": "execute_result"
    }
   ],
   "source": [
    "a = [1, 2, 32, 41, 241, 2]\n",
    "a[-len(a)]"
   ]
  },
  {
   "cell_type": "markdown",
   "metadata": {},
   "source": [
    "# Q4\n",
    "\n",
    "Our DynamicArray class, as given in Code Fragment 5.3, does not support\n",
    "use of negative indices with getitem . Update that method to better\n",
    "match the semantics of a Python list\n"
   ]
  },
  {
   "cell_type": "code",
   "execution_count": 121,
   "metadata": {},
   "outputs": [],
   "source": [
    "# Dynamic Array class\n",
    "import ctypes\n",
    "\n",
    "\n",
    "class DynamicArray:\n",
    "    def __init__(self):\n",
    "        self._n = 0\n",
    "        self._capacity = 1  # default capacity\n",
    "        self._A = self._make_array(\n",
    "            self._capacity\n",
    "        )  # array of size 1 index 0 created at initialisation of class\n",
    "\n",
    "    def __len__(self):\n",
    "        return self._n\n",
    "\n",
    "    def __getitem__(self, k):  # k passed here as index\n",
    "\n",
    "        if k >= self._n:\n",
    "            raise IndexError(\"out of bounds\")\n",
    "\n",
    "        if 0 <= k < self._n:  # check the range and positive nature\n",
    "\n",
    "            return self._A[k]\n",
    "        elif not -(self._n) <= k < 0 and k + (-self._n) <= 0:\n",
    "            raise IndexError(\"Out of bounds\")\n",
    "        return self._A[self._n + k]\n",
    "\n",
    "    def append(self, obj):\n",
    "\n",
    "        if self._n == self._capacity:\n",
    "            self._resize(2 * self._capacity)\n",
    "        self._A[self._n] = obj\n",
    "        self._n += 1\n",
    "\n",
    "    def _resize(self, c):\n",
    "\n",
    "        B = self._make_array(c)\n",
    "        for k in range(self._n):\n",
    "            B[k] = self._A[k]\n",
    "        self._A = B\n",
    "        self._capacity = c\n",
    "\n",
    "    def _make_array(self, c):\n",
    "        return (c * ctypes.py_object)()"
   ]
  },
  {
   "cell_type": "markdown",
   "metadata": {},
   "source": [
    "# Q6\n",
    "\n",
    "Our implementation of insert for the DynamicArray class, as given in\n",
    "Code Fragment 5.5, has the following inefficiency. In the case when a re\u0002size occurs, the resize operation takes time to copy all the elements from\n",
    "an old array to a new array, and then the subsequent loop in the body of\n",
    "insert shifts many of those elements. Give an improved implementation\n",
    "of the insert method, so that, in the case of a resize, the elements are\n",
    "shifted into their final position during that operation, thereby avoiding the\n",
    "subsequent shifting\n"
   ]
  },
  {
   "cell_type": "code",
   "execution_count": 180,
   "metadata": {},
   "outputs": [],
   "source": [
    "# Dynamic Array class\n",
    "import ctypes\n",
    "\n",
    "\n",
    "class DynamicArray:\n",
    "    def __init__(self):\n",
    "        self._n = 0\n",
    "        self._capacity = 1  # default capacity\n",
    "        self._A = self._make_array(\n",
    "            self._capacity\n",
    "        )  # array of size 1 index 0 created at initialisation of class\n",
    "\n",
    "    def __len__(self):\n",
    "        return self._n\n",
    "\n",
    "    def __getitem__(self, k):  # k passed here as index\n",
    "\n",
    "        if k >= self._n:\n",
    "            raise IndexError(\"out of bounds\")\n",
    "\n",
    "        if 0 <= k < self._n:  # check the range and positive nature\n",
    "\n",
    "            return self._A[k]\n",
    "        elif not -(self._n) <= k < 0 and k + (-self._n) <= 0:\n",
    "            raise IndexError(\"Out of bounds\")\n",
    "        return self._A[self._n + k]\n",
    "\n",
    "    def append(self, obj):\n",
    "\n",
    "        if self._n == self._capacity:\n",
    "            self._resize(2 * self._capacity)\n",
    "        self._A[self._n] = obj\n",
    "        self._n += 1\n",
    "\n",
    "    def _resize(self, c):\n",
    "\n",
    "        B = self._make_array(c)\n",
    "        for k in range(self._n):\n",
    "            B[k] = self._A[k]\n",
    "        self._A = B\n",
    "        self._capacity = c\n",
    "\n",
    "    def _make_array(self, c):\n",
    "        return (c * ctypes.py_object)()\n",
    "\n",
    "    def insert(self, k, value):\n",
    "        if k > self._n + 1:\n",
    "            raise IndexError(\"Cannot append\")\n",
    "\n",
    "        if k == self._n:\n",
    "            self.append(value)\n",
    "\n",
    "        else:\n",
    "            if self._n == self._capacity:\n",
    "\n",
    "                B = self._make_array(self._capacity * 2)\n",
    "                for i in range(self._n):\n",
    "                    if i < k:\n",
    "                        B[i] = self._A[i]\n",
    "                    else:\n",
    "                        B[i + 1] = self._A[i]\n",
    "                    self._A = B\n",
    "\n",
    "            else:\n",
    "                for i in range(self._n, k, -1):\n",
    "                    self._A[i] = self._A[i - 1]\n",
    "\n",
    "            self._A[k] = value\n",
    "            self._n += 1"
   ]
  },
  {
   "cell_type": "markdown",
   "metadata": {},
   "source": [
    "# Q7\n",
    "\n",
    "Let A be an array of size n ≥ 2 containing integers from 1 to n−1, inclu\u0002sive, with exactly one repeated. Describe a fast algorithm for finding the\n",
    "integer in A that is repeated.\n"
   ]
  },
  {
   "cell_type": "code",
   "execution_count": null,
   "metadata": {},
   "outputs": [],
   "source": []
  }
 ],
 "metadata": {
  "kernelspec": {
   "display_name": "Python 3",
   "language": "python",
   "name": "python3"
  },
  "language_info": {
   "codemirror_mode": {
    "name": "ipython",
    "version": 3
   },
   "file_extension": ".py",
   "mimetype": "text/x-python",
   "name": "python",
   "nbconvert_exporter": "python",
   "pygments_lexer": "ipython3",
   "version": "3.12.3"
  }
 },
 "nbformat": 4,
 "nbformat_minor": 2
}
