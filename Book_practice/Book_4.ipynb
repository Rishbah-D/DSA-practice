{
 "cells": [
  {
   "cell_type": "markdown",
   "metadata": {},
   "source": [
    "# ***Exercises***"
   ]
  },
  {
   "cell_type": "markdown",
   "metadata": {},
   "source": [
    "# Q1\n",
    "Describe a recursive algorithm for finding the maximum element in a se\u0002quence, S, of n elements. What is your running time and space usage?"
   ]
  },
  {
   "cell_type": "code",
   "execution_count": 11,
   "metadata": {},
   "outputs": [],
   "source": [
    "def max_recursive(seq:list):\n",
    "    if len(seq)==1:\n",
    "        return seq[0]\n",
    "    if seq[0]<=seq[1]:\n",
    "        del(seq[0])\n",
    "        \n",
    "    elif seq[1]<seq[0]:\n",
    "        del(seq[1])\n",
    "        \n",
    "    return max_recursive(seq)"
   ]
  },
  {
   "cell_type": "code",
   "execution_count": 16,
   "metadata": {},
   "outputs": [
    {
     "data": {
      "text/plain": [
       "1"
      ]
     },
     "execution_count": 16,
     "metadata": {},
     "output_type": "execute_result"
    }
   ],
   "source": [
    "seq=[1,1]\n",
    "max_recursive(seq=seq)"
   ]
  },
  {
   "cell_type": "markdown",
   "metadata": {},
   "source": [
    "# Q2\n",
    "\n",
    "Draw the recursion trace for the computation of power(2,5), using the\n",
    "traditional function implemented in Code Fragment 4.11.\n",
    "\n",
    "\n",
    "`def power(x,n):\n",
    "    if n==0:\n",
    "        return 1\n",
    "    else:\n",
    "        return x*power(x,n-1)`"
   ]
  },
  {
   "cell_type": "markdown",
   "metadata": {},
   "source": [
    "# Q3\n",
    "Draw the recursion trace for the computation of power(2,18), using the\n",
    "repeated squaring algorithm, as implemented in Code Fragment 4.12\n",
    "\n",
    "`def power(x,n): if n==0: return 1 else: partial = power(x,n//2) result = partial * partial  if n%2 ==1: result*=x retun result`"
   ]
  },
  {
   "cell_type": "markdown",
   "metadata": {},
   "source": [
    "# Q4\n",
    "Draw the recursion trace for the execution of function reverse(S, 0, 5)\n",
    "(Code Fragment 4.10) on S = [4, 3, 6, 2, 6]"
   ]
  },
  {
   "cell_type": "markdown",
   "metadata": {},
   "source": [
    "# Q5\n",
    "Draw the recursion trace for the execution of function PuzzleSolve(3,S,U)\n",
    "(Code Fragment 4.14), where S is empty and U = {a,b,c,d}"
   ]
  },
  {
   "cell_type": "markdown",
   "metadata": {},
   "source": [
    "# Q6\n",
    "Describe a recursive function for computing the nth Harmonic number,\n",
    "Hn = ∑n\n",
    "i=1 1/i"
   ]
  },
  {
   "cell_type": "code",
   "execution_count": 17,
   "metadata": {},
   "outputs": [],
   "source": [
    "def Harmo_calc(n:int):\n",
    "    result = 1/n\n",
    "    n-=1\n",
    "    if n==0:\n",
    "        return result\n",
    "    return result + Harmo_calc(n)"
   ]
  },
  {
   "cell_type": "code",
   "execution_count": 20,
   "metadata": {},
   "outputs": [
    {
     "data": {
      "text/plain": [
       "5.187377517639621"
      ]
     },
     "execution_count": 20,
     "metadata": {},
     "output_type": "execute_result"
    }
   ],
   "source": [
    "Harmo_calc(100)"
   ]
  },
  {
   "cell_type": "markdown",
   "metadata": {},
   "source": [
    "# Q7\n",
    "Describe a recursive function for converting a string of digits into the in\u0002teger it represents. For example, 13531 represents the integer 13,531."
   ]
  },
  {
   "cell_type": "code",
   "execution_count": 21,
   "metadata": {},
   "outputs": [],
   "source": [
    "def str_int_(n):\n",
    "    if n <1000:\n",
    "        return str(int(n))\n",
    "    else:\n",
    "        return str_int_(n/1000) + ',' + str(int(n%1000))"
   ]
  },
  {
   "cell_type": "code",
   "execution_count": 23,
   "metadata": {},
   "outputs": [
    {
     "data": {
      "text/plain": [
       "'134,532'"
      ]
     },
     "execution_count": 23,
     "metadata": {},
     "output_type": "execute_result"
    }
   ],
   "source": [
    "str_int_(134532)"
   ]
  },
  {
   "cell_type": "markdown",
   "metadata": {},
   "source": [
    "# Q8 \n",
    "Isabel has an interesting way of summing up the values in a sequence A of\n",
    "n integers, where n is a power of two. She creates a new sequence B of half\n",
    "the size of A and sets B[i] = A[2i]+A[2i+1], for i = 0,1,...,(n/2)−1. If\n",
    "B has size 1, then she outputs B[0]. Otherwise, she replaces A with B, and\n",
    "repeats the process. What is the running time of her algorithm?\n",
    "\n",
    "`O(n)`"
   ]
  },
  {
   "cell_type": "markdown",
   "metadata": {},
   "source": [
    "# Q9\n",
    "Write a short recursive Python function that finds the minimum and max\u0002imum values in a sequence without using any loops."
   ]
  },
  {
   "cell_type": "code",
   "execution_count": 99,
   "metadata": {},
   "outputs": [],
   "source": [
    "def min_max(S, start=None, end=None):\n",
    "    if start is None and end is None:\n",
    "        start, end = 0, len(S)-1\n",
    "\n",
    "    if start == end:\n",
    "        return (S[start], S[end])\n",
    "    elif start == end-1:\n",
    "        if S[start] > S[end]:\n",
    "            return (S[start], S[end])\n",
    "        else:\n",
    "            return (S[end], S[start])\n",
    "    else:\n",
    "        mid = (start+end)//2\n",
    "        part_one = min_max(S, start, mid)\n",
    "        part_two = min_max(S, mid+1, end)\n",
    "        maximum = part_one[0] if part_one[0] > part_two[0] else part_two[0]\n",
    "        minimum = part_one[1] if part_one[1] < part_two[1] else part_two[1]\n",
    "        return (maximum, minimum)"
   ]
  },
  {
   "cell_type": "code",
   "execution_count": 102,
   "metadata": {},
   "outputs": [
    {
     "data": {
      "text/plain": [
       "(2435235253, 0)"
      ]
     },
     "execution_count": 102,
     "metadata": {},
     "output_type": "execute_result"
    }
   ],
   "source": [
    "min_max([23423,1,3,2,2435235253,42,234,25,3423,35235235,0])"
   ]
  },
  {
   "cell_type": "markdown",
   "metadata": {},
   "source": [
    "# Q4.10 \n",
    "Describe a recursive algorithm to compute the integer part of the base-two logarithm of n using only addition and integer division."
   ]
  },
  {
   "cell_type": "code",
   "execution_count": 107,
   "metadata": {},
   "outputs": [],
   "source": [
    "def log_base_two_int(n):\n",
    "    if n ==1:\n",
    "        return 0\n",
    "    else :\n",
    "        return log_base_two_int(n//2)+1"
   ]
  },
  {
   "cell_type": "code",
   "execution_count": 108,
   "metadata": {},
   "outputs": [
    {
     "data": {
      "text/plain": [
       "4"
      ]
     },
     "execution_count": 108,
     "metadata": {},
     "output_type": "execute_result"
    }
   ],
   "source": [
    "log_base_two_int(16)"
   ]
  },
  {
   "cell_type": "markdown",
   "metadata": {},
   "source": [
    "# Q11\n",
    "Describe an efficient recursive function for solving the element unique\u0002ness problem, which runs in time that is at most O(n2) in the worst case\n",
    "without using sorting"
   ]
  },
  {
   "cell_type": "code",
   "execution_count": 1,
   "metadata": {},
   "outputs": [],
   "source": [
    "def element_uniqueness(S, start=None, target=None):\n",
    "    if start is None and target is None:\n",
    "        start = 0\n",
    "        target = start\n",
    "    if start == len(S):\n",
    "        return True\n",
    "    else:\n",
    "        if target == len(S):\n",
    "            return element_uniqueness(S, start+1, start+1)\n",
    "        else:\n",
    "            if S[start] == S[target] and start != target:\n",
    "                return False\n",
    "            return element_uniqueness(S, start, target+1)"
   ]
  },
  {
   "cell_type": "code",
   "execution_count": 3,
   "metadata": {},
   "outputs": [
    {
     "data": {
      "text/plain": [
       "True"
      ]
     },
     "execution_count": 3,
     "metadata": {},
     "output_type": "execute_result"
    }
   ],
   "source": [
    "element_uniqueness([12,1243,412,123,124])"
   ]
  },
  {
   "cell_type": "markdown",
   "metadata": {},
   "source": [
    "# Q12\n",
    "Give a recursive algorithm to compute the product of two positive integers,\n",
    "m and n, using only addition and subtraction"
   ]
  },
  {
   "cell_type": "code",
   "execution_count": 109,
   "metadata": {},
   "outputs": [],
   "source": [
    "def product(m,n):\n",
    "    if m ==0 or n ==0:\n",
    "        return 0\n",
    "    \n",
    "    else :\n",
    "        return m + product(m,n-1)"
   ]
  },
  {
   "cell_type": "code",
   "execution_count": 116,
   "metadata": {},
   "outputs": [
    {
     "data": {
      "text/plain": [
       "12"
      ]
     },
     "execution_count": 116,
     "metadata": {},
     "output_type": "execute_result"
    }
   ],
   "source": [
    "product(3,4)"
   ]
  },
  {
   "cell_type": "markdown",
   "metadata": {},
   "source": [
    "# Q13\n",
    "In Section 4.2 we prove by induction that the number of lines printed by\n",
    "a call to draw interval(c) is 2c − 1. Another interesting question is how\n",
    "many dashes are printed during that process. Prove by induction that the\n",
    "number of dashes printed by draw interval(c) is 2c+1 −c−2"
   ]
  },
  {
   "cell_type": "code",
   "execution_count": null,
   "metadata": {},
   "outputs": [],
   "source": []
  }
 ],
 "metadata": {
  "kernelspec": {
   "display_name": "Python 3",
   "language": "python",
   "name": "python3"
  },
  "language_info": {
   "codemirror_mode": {
    "name": "ipython",
    "version": 3
   },
   "file_extension": ".py",
   "mimetype": "text/x-python",
   "name": "python",
   "nbconvert_exporter": "python",
   "pygments_lexer": "ipython3",
   "version": "3.12.3"
  }
 },
 "nbformat": 4,
 "nbformat_minor": 2
}
