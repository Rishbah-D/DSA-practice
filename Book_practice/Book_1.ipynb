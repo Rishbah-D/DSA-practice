{
 "cells": [
  {
   "cell_type": "markdown",
   "metadata": {},
   "source": [
    "# Preview\n"
   ]
  },
  {
   "cell_type": "code",
   "execution_count": 1,
   "metadata": {},
   "outputs": [
    {
     "name": "stdout",
     "output_type": "stream",
     "text": [
      "Welcome to the GPA calculator.\n",
      "Please enter all your letter grades, one per line.\n",
      "Enter a blank line to designate the end.\n",
      "Unkoown grade |d| tf u at bro?\n",
      "Unkoown grade |a| tf u at bro?\n",
      "Unkoown grade |x| tf u at bro?\n"
     ]
    }
   ],
   "source": [
    "print(\"Welcome to the GPA calculator.\")\n",
    "print(\"Please enter all your letter grades, one per line.\")\n",
    "print(\"Enter a blank line to designate the end.\")\n",
    "\n",
    "points = {\n",
    "    \"A+\": 4.0,\n",
    "    \"A\": 4.0,\n",
    "    \"A-\": 3.67,\n",
    "    \"B+\": 3.33,\n",
    "    \"B\": 3.0,\n",
    "    \"B-\": 2.67,\n",
    "    \"C+\": 2.33,\n",
    "    \"C\": 2.0,\n",
    "    \"C-\": 1.67,\n",
    "    \"D+\": 1.33,\n",
    "    \"D\": 1.0,\n",
    "    \"F\": 0.0,\n",
    "}\n",
    "num_courses = 0\n",
    "total_points = 0\n",
    "done = False\n",
    "\n",
    "while not done:\n",
    "    grade = input()\n",
    "    if grade == \"\":\n",
    "        done = True\n",
    "    elif grade not in points:\n",
    "        print(\"Unkoown grade |{0}| tf u at bro?\".format(grade))\n",
    "    else:\n",
    "        num_courses += 1\n",
    "        total_points += points[\n",
    "            grade\n",
    "        ]  #! here the grade will  fecth the values.... it's a dictionary of key values that is\n",
    "if num_courses > 0:\n",
    "    print(\"GPA is{0:.3}\".format(total_points / num_courses))\n",
    "\n",
    "#! The fabulous use of .format... so good"
   ]
  },
  {
   "cell_type": "code",
   "execution_count": 2,
   "metadata": {},
   "outputs": [
    {
     "data": {
      "text/plain": [
       "6.75"
      ]
     },
     "execution_count": 2,
     "metadata": {},
     "output_type": "execute_result"
    }
   ],
   "source": [
    "27 / 4"
   ]
  },
  {
   "cell_type": "code",
   "execution_count": 3,
   "metadata": {},
   "outputs": [
    {
     "data": {
      "text/plain": [
       "6"
      ]
     },
     "execution_count": 3,
     "metadata": {},
     "output_type": "execute_result"
    }
   ],
   "source": [
    "27 // 4  #! case of integer division"
   ]
  },
  {
   "cell_type": "code",
   "execution_count": 4,
   "metadata": {},
   "outputs": [
    {
     "name": "stdout",
     "output_type": "stream",
     "text": [
      "5 -6\n"
     ]
    }
   ],
   "source": [
    "a = 5\n",
    "b = ~a\n",
    "print(a, b)"
   ]
  },
  {
   "cell_type": "code",
   "execution_count": 5,
   "metadata": {},
   "outputs": [
    {
     "name": "stdout",
     "output_type": "stream",
     "text": [
      "['R', 'i', 's', 'h', 'b', 'h']\n"
     ]
    }
   ],
   "source": [
    "s = \"Rishabh\"\n",
    "s = list(s)\n",
    "del s[4]\n",
    "print(s)"
   ]
  },
  {
   "cell_type": "code",
   "execution_count": 6,
   "metadata": {},
   "outputs": [
    {
     "name": "stdout",
     "output_type": "stream",
     "text": [
      "False\n"
     ]
    }
   ],
   "source": [
    "print([5, 6, 7] > [5, 7])\n",
    "# lexicographic order as 5=5,6<7 so false"
   ]
  },
  {
   "cell_type": "code",
   "execution_count": 7,
   "metadata": {},
   "outputs": [],
   "source": [
    "def factors(n):\n",
    "    for i in range(1, n + 1):\n",
    "        if n % i == 0:\n",
    "            yield i"
   ]
  },
  {
   "cell_type": "code",
   "execution_count": 8,
   "metadata": {},
   "outputs": [
    {
     "name": "stdout",
     "output_type": "stream",
     "text": [
      "1\n",
      "2\n",
      "4\n",
      "5\n",
      "10\n",
      "20\n",
      "25\n",
      "50\n",
      "100\n"
     ]
    }
   ],
   "source": [
    "for i in factors(100):\n",
    "    print(i)"
   ]
  },
  {
   "cell_type": "code",
   "execution_count": 9,
   "metadata": {},
   "outputs": [],
   "source": [
    "def factors(n):\n",
    "    factors = [k for k in range(1, n + 1) if n % k == 0]\n",
    "    return factors\n",
    "\n",
    "\n",
    "### comprehension syntax"
   ]
  },
  {
   "cell_type": "code",
   "execution_count": 10,
   "metadata": {},
   "outputs": [
    {
     "data": {
      "text/plain": [
       "[1, 2, 4, 5, 10, 20, 25, 50, 100]"
      ]
     },
     "execution_count": 10,
     "metadata": {},
     "output_type": "execute_result"
    }
   ],
   "source": [
    "factors(n=100)"
   ]
  },
  {
   "cell_type": "code",
   "execution_count": 11,
   "metadata": {},
   "outputs": [],
   "source": [
    "def factors(n):\n",
    "    k = 1\n",
    "    while k * k < n:\n",
    "        if n % k == 0:\n",
    "            yield k\n",
    "            yield n // k\n",
    "        k += 1\n",
    "    if k * k == n:\n",
    "        yield k"
   ]
  },
  {
   "cell_type": "code",
   "execution_count": 12,
   "metadata": {},
   "outputs": [
    {
     "name": "stdout",
     "output_type": "stream",
     "text": [
      "1\n",
      "100\n",
      "2\n",
      "50\n",
      "4\n",
      "25\n",
      "5\n",
      "20\n",
      "10\n"
     ]
    }
   ],
   "source": [
    "for i in factors(100):\n",
    "    print(i)"
   ]
  },
  {
   "cell_type": "code",
   "execution_count": 13,
   "metadata": {},
   "outputs": [
    {
     "name": "stdout",
     "output_type": "stream",
     "text": [
      "1 2 3 4\n"
     ]
    }
   ],
   "source": [
    "a, b, c, d = range(1, 5)\n",
    "print(a, b, c, d)"
   ]
  },
  {
   "cell_type": "code",
   "execution_count": 14,
   "metadata": {},
   "outputs": [],
   "source": [
    "def fibo(n):\n",
    "    c = 0\n",
    "    a, b = 0, 1\n",
    "    while c < n:\n",
    "        yield a\n",
    "        a, b = b, a + b\n",
    "        c += 1"
   ]
  },
  {
   "cell_type": "code",
   "execution_count": 15,
   "metadata": {},
   "outputs": [
    {
     "name": "stdout",
     "output_type": "stream",
     "text": [
      "0\n",
      "1\n",
      "1\n",
      "2\n",
      "3\n",
      "5\n",
      "8\n",
      "13\n",
      "21\n",
      "34\n"
     ]
    }
   ],
   "source": [
    "for i in fibo(10):\n",
    "    print(i)"
   ]
  },
  {
   "cell_type": "markdown",
   "metadata": {},
   "source": [
    "# Q1\n",
    "\n",
    "Write a short Python function, is multiple(n, m), that takes two integer\n",
    "values and returns True if n is a multiple of m, that is, n = mi for some\n",
    "integer i, and False otherwise.\n"
   ]
  },
  {
   "cell_type": "code",
   "execution_count": 16,
   "metadata": {},
   "outputs": [],
   "source": [
    "def is_multiple(n, m):\n",
    "    if m == 0:\n",
    "        return \"Invalid\"\n",
    "    return True if n % m == 0 else False"
   ]
  },
  {
   "cell_type": "markdown",
   "metadata": {},
   "source": [
    "# Q2\n",
    "\n",
    "Write a short Python function, is even(k), that takes an integer value and\n",
    "returns True if k is even, and False otherwise. However, your function\n",
    "cannot use the multiplication, modulo, or division operators.\n"
   ]
  },
  {
   "cell_type": "code",
   "execution_count": 17,
   "metadata": {},
   "outputs": [],
   "source": [
    "def is_even(k):\n",
    "    k = list(str(k))\n",
    "    print(k)\n",
    "    c = 0\n",
    "    for i in range(len(k)):\n",
    "        if k[i] != \"0\" and k[i] != \".\" and k[i] != \"-\":\n",
    "            c += 1\n",
    "    print(c)\n",
    "    if c == 0:\n",
    "        return False\n",
    "    print(k[-1])\n",
    "    if (\n",
    "        int(k[-1]) == 0\n",
    "        or int(k[-1]) == 2\n",
    "        or int(k[-1]) == 4\n",
    "        or int(k[-1]) == 6\n",
    "        or int(k[-1]) == 8\n",
    "    ):\n",
    "        return True\n",
    "    else:\n",
    "        return False"
   ]
  },
  {
   "cell_type": "code",
   "execution_count": 18,
   "metadata": {},
   "outputs": [],
   "source": [
    "def is_even(k):\n",
    "    k = list(str(k))\n",
    "    print(k)\n",
    "    c = 0\n",
    "    if len(k) == 1 and k[0] == \"0\":\n",
    "        return False\n",
    "    if (\n",
    "        int(k[-1]) == 0\n",
    "        or int(k[-1]) == 2\n",
    "        or int(k[-1]) == 4\n",
    "        or int(k[-1]) == 6\n",
    "        or int(k[-1]) == 8\n",
    "    ):\n",
    "        return True\n",
    "    else:\n",
    "        return False"
   ]
  },
  {
   "cell_type": "markdown",
   "metadata": {},
   "source": [
    "# Q3\n",
    "\n",
    "Write a short Python function, minmax(data), that takes a sequence of\n",
    "one or more numbers, and returns the smallest and largest numbers, in the\n",
    "form of a tuple of length two. Do not use the built-in functions min or\n",
    "max in implementing your solution.\n"
   ]
  },
  {
   "cell_type": "code",
   "execution_count": 19,
   "metadata": {},
   "outputs": [],
   "source": [
    "def minmax(data):\n",
    "    max = data[0]\n",
    "    min = data[0]\n",
    "    for i in data:\n",
    "        if i >= max:\n",
    "            max = i\n",
    "        if i <= min:\n",
    "            min = i\n",
    "\n",
    "    return max, min"
   ]
  },
  {
   "cell_type": "markdown",
   "metadata": {},
   "source": [
    "# Q4\n",
    "\n",
    "Write a short Python function that takes a positive integer n and returns\n",
    "the sum of the squares of all the positive integers smaller than n.\n"
   ]
  },
  {
   "cell_type": "code",
   "execution_count": 20,
   "metadata": {},
   "outputs": [],
   "source": [
    "def n_Squared(n):\n",
    "    if n < 0:\n",
    "        return \"INVALID\"\n",
    "    sum = 0\n",
    "    for i in range(1, n):\n",
    "        sum += i**2\n",
    "        print(sum)\n",
    "    return sum"
   ]
  },
  {
   "cell_type": "code",
   "execution_count": 21,
   "metadata": {},
   "outputs": [
    {
     "name": "stdout",
     "output_type": "stream",
     "text": [
      "1\n",
      "5\n",
      "14\n",
      "30\n"
     ]
    },
    {
     "data": {
      "text/plain": [
       "30"
      ]
     },
     "execution_count": 21,
     "metadata": {},
     "output_type": "execute_result"
    }
   ],
   "source": [
    "n_Squared(5)"
   ]
  },
  {
   "cell_type": "markdown",
   "metadata": {},
   "source": [
    "# Q5\n",
    "\n",
    "Give a single command that computes the sum from Exercise R-1.4, rely\u0002ing on Python’s comprehension syntax and the built-in sum function.\n"
   ]
  },
  {
   "cell_type": "code",
   "execution_count": 22,
   "metadata": {},
   "outputs": [],
   "source": [
    "def n_Squared3(n):\n",
    "    return sum(k**2 for k in range(1, n))"
   ]
  },
  {
   "cell_type": "code",
   "execution_count": 23,
   "metadata": {},
   "outputs": [
    {
     "data": {
      "text/plain": [
       "30"
      ]
     },
     "execution_count": 23,
     "metadata": {},
     "output_type": "execute_result"
    }
   ],
   "source": [
    "n_Squared3(5)"
   ]
  },
  {
   "cell_type": "markdown",
   "metadata": {},
   "source": [
    "# Q6\n",
    "\n",
    "Write a short Python function that takes a positive integer n and returns\n",
    "the sum of the squares of all the odd positive integers smaller than n.\n"
   ]
  },
  {
   "cell_type": "code",
   "execution_count": 24,
   "metadata": {},
   "outputs": [],
   "source": [
    "def n_Squared(n):\n",
    "    if n < 0:\n",
    "        return \"INVALID\"\n",
    "    sum = 0\n",
    "    for i in range(1, n):\n",
    "        if i % 2 != 0:\n",
    "            sum += i**2\n",
    "            print(sum)\n",
    "    return sum"
   ]
  },
  {
   "cell_type": "code",
   "execution_count": 25,
   "metadata": {},
   "outputs": [
    {
     "name": "stdout",
     "output_type": "stream",
     "text": [
      "1\n",
      "10\n"
     ]
    },
    {
     "data": {
      "text/plain": [
       "10"
      ]
     },
     "execution_count": 25,
     "metadata": {},
     "output_type": "execute_result"
    }
   ],
   "source": [
    "n_Squared(5)"
   ]
  },
  {
   "cell_type": "markdown",
   "metadata": {},
   "source": [
    "# Q7\n",
    "\n",
    "Give a single command that computes the sum from Exercise R-1.6, rely\u0002ing on Python’s comprehension syntax and the b\n"
   ]
  },
  {
   "cell_type": "code",
   "execution_count": 26,
   "metadata": {},
   "outputs": [],
   "source": [
    "def n_Squared3(n):\n",
    "    return sum(k**2 for k in range(1, n) if k % 2 != 0)"
   ]
  },
  {
   "cell_type": "code",
   "execution_count": 27,
   "metadata": {},
   "outputs": [
    {
     "data": {
      "text/plain": [
       "10"
      ]
     },
     "execution_count": 27,
     "metadata": {},
     "output_type": "execute_result"
    }
   ],
   "source": [
    "n_Squared3(4)"
   ]
  },
  {
   "cell_type": "markdown",
   "metadata": {},
   "source": [
    "# Q8\n",
    "\n",
    "Python allows negative integers to be used as indices into a sequence,\n",
    "such as a string. If string s has length n, and expression s[k] is used for in\u0002dex −n ≤ k < 0, what is the equivalent index j ≥ 0 such that s[j] references\n",
    "the same element?\n"
   ]
  },
  {
   "cell_type": "markdown",
   "metadata": {},
   "source": [
    "# Answer\n",
    "\n",
    "`Here the equivalent index would be J=k+n`\n"
   ]
  },
  {
   "cell_type": "code",
   "execution_count": 28,
   "metadata": {},
   "outputs": [
    {
     "name": "stdout",
     "output_type": "stream",
     "text": [
      "True\n",
      "H H\n"
     ]
    }
   ],
   "source": [
    "str = \"RISHABH\"\n",
    "a = str[-4]\n",
    "b = str[-4 + len(str)]\n",
    "print(True if a == b else False)\n",
    "print(a, b)"
   ]
  },
  {
   "cell_type": "markdown",
   "metadata": {},
   "source": [
    "# Q9\n",
    "\n",
    "What parameters should be sent to the range constructor, to produce a\n",
    "range with values 50, 60, 70, 80?\n"
   ]
  },
  {
   "cell_type": "code",
   "execution_count": 29,
   "metadata": {},
   "outputs": [],
   "source": [
    "a = range(50, 90, 10)"
   ]
  },
  {
   "cell_type": "code",
   "execution_count": 30,
   "metadata": {},
   "outputs": [
    {
     "name": "stdout",
     "output_type": "stream",
     "text": [
      "50\n",
      "60\n",
      "70\n",
      "80\n"
     ]
    }
   ],
   "source": [
    "for i in a:\n",
    "    print(i)"
   ]
  },
  {
   "cell_type": "markdown",
   "metadata": {},
   "source": [
    "# Q10\n",
    "\n",
    "What parameters should be sent to the range constructor, to produce a\n",
    "range with values 8, 6, 4, 2, 0, −2, −4, −6, −8?\n"
   ]
  },
  {
   "cell_type": "code",
   "execution_count": 31,
   "metadata": {},
   "outputs": [
    {
     "name": "stdout",
     "output_type": "stream",
     "text": [
      "8\n",
      "6\n",
      "4\n",
      "2\n",
      "0\n",
      "-2\n",
      "-4\n",
      "-6\n",
      "-8\n"
     ]
    }
   ],
   "source": [
    "a = range(8, -9, -2)\n",
    "for i in a:\n",
    "    print(i)"
   ]
  },
  {
   "cell_type": "markdown",
   "metadata": {},
   "source": [
    "# Q11\n",
    "\n",
    "Demonstrate how to use Python’s list comprehension syntax to produce\n",
    "the list [1, 2, 4, 8, 16, 32, 64, 128, 256\n"
   ]
  },
  {
   "cell_type": "code",
   "execution_count": 32,
   "metadata": {},
   "outputs": [],
   "source": [
    "a = [2**k for k in range(1, 10)]"
   ]
  },
  {
   "cell_type": "code",
   "execution_count": 33,
   "metadata": {},
   "outputs": [
    {
     "name": "stdout",
     "output_type": "stream",
     "text": [
      "[2, 4, 8, 16, 32, 64, 128, 256, 512]\n"
     ]
    }
   ],
   "source": [
    "print(a)"
   ]
  },
  {
   "cell_type": "markdown",
   "metadata": {},
   "source": [
    "# Q12\n",
    "\n",
    "Python’s random module includes a function choice(data) that returns a\n",
    "random element from a non-empty sequence. The random module in\u0002cludes a more basic function randrange, with parameterization similar to\n",
    "the built-in range function, that return a random choice from the given\n",
    "range. Using only the randrange function, implement your own version\n",
    "of the choice function\n"
   ]
  },
  {
   "cell_type": "code",
   "execution_count": 34,
   "metadata": {},
   "outputs": [],
   "source": [
    "import random"
   ]
  },
  {
   "cell_type": "code",
   "execution_count": 35,
   "metadata": {},
   "outputs": [],
   "source": [
    "def choice(data):\n",
    "    max = data[0]\n",
    "    min = data[0]\n",
    "    for i in data:\n",
    "        if i >= max:\n",
    "            max = i\n",
    "        if i <= min:\n",
    "            min = i\n",
    "\n",
    "    start = min\n",
    "    stop = max + 1\n",
    "    step = 1\n",
    "\n",
    "    a = random.randrange(start=start, stop=stop, step=step)\n",
    "    print(a)\n",
    "    while a not in data:\n",
    "        a = random.randrange(start=start, stop=stop, step=step)\n",
    "    return a"
   ]
  },
  {
   "cell_type": "code",
   "execution_count": 36,
   "metadata": {},
   "outputs": [
    {
     "name": "stdout",
     "output_type": "stream",
     "text": [
      "1169\n"
     ]
    },
    {
     "data": {
      "text/plain": [
       "2356"
      ]
     },
     "execution_count": 36,
     "metadata": {},
     "output_type": "execute_result"
    }
   ],
   "source": [
    "choice([1, 2, 3, 4, 5, 35, 235, 235, 2356])"
   ]
  },
  {
   "cell_type": "code",
   "execution_count": 37,
   "metadata": {},
   "outputs": [
    {
     "data": {
      "text/plain": [
       "3"
      ]
     },
     "execution_count": 37,
     "metadata": {},
     "output_type": "execute_result"
    }
   ],
   "source": [
    "random.choice([1, 2, 3, 4, 5, 35, 235, 235, 2356])"
   ]
  },
  {
   "cell_type": "markdown",
   "metadata": {},
   "source": [
    "# Q13\n",
    "\n",
    "Write a pseudo-code description of a function that reverses a list of n\n",
    "integers, so that the numbers are listed in the opposite order than they\n",
    "were before, and compare this method to an equivalent Python function\n",
    "for doing the same thing.\n"
   ]
  },
  {
   "cell_type": "code",
   "execution_count": 38,
   "metadata": {},
   "outputs": [],
   "source": [
    "def reverse_list(data):\n",
    "    data = list(data)\n",
    "    n = len(data)\n",
    "    for i in range(n // 2):\n",
    "        data[i], data[n - i - 1] = data[n - i - 1], data[i]\n",
    "    return data"
   ]
  },
  {
   "cell_type": "markdown",
   "metadata": {},
   "source": [
    "# Q14\n",
    "\n",
    "Write a short Python function that takes a sequence of integer values and\n",
    "determines if there is a distinct pair of numbers in the sequence whose\n",
    "product is odd.\n"
   ]
  },
  {
   "cell_type": "code",
   "execution_count": 39,
   "metadata": {},
   "outputs": [],
   "source": [
    "def odd_pair1(data):\n",
    "    n = len(data)\n",
    "    results = []\n",
    "    for i in range(1, n):\n",
    "        for j in range(0, n - 1):\n",
    "            if (data[i] * data[j]) % 2 == 1:\n",
    "                results.append([data[i], data[j]])\n",
    "    return results"
   ]
  },
  {
   "cell_type": "code",
   "execution_count": 40,
   "metadata": {},
   "outputs": [
    {
     "data": {
      "text/plain": [
       "[[3, 1], [3, 3], [5, 1], [5, 3]]"
      ]
     },
     "execution_count": 40,
     "metadata": {},
     "output_type": "execute_result"
    }
   ],
   "source": [
    "odd_pair1([1, 2, 3, 4, 5])"
   ]
  },
  {
   "cell_type": "markdown",
   "metadata": {},
   "source": [
    "# Q15\n",
    "\n",
    "Write a Python function that takes a sequence of numbers and determines\n",
    "if all the numbers are different from each other (that is, they are distinct).\n"
   ]
  },
  {
   "cell_type": "code",
   "execution_count": 41,
   "metadata": {},
   "outputs": [],
   "source": [
    "def distinct(data):\n",
    "    n = len(data)\n",
    "    c = 0\n",
    "    results = []\n",
    "    for i in range(1, n):\n",
    "        for j in range(0, n - 1):\n",
    "            if data[i] == data[j] and i != j:\n",
    "                c += 1\n",
    "    return \"Not distinct\" if c > 0 else \"distinct\""
   ]
  },
  {
   "cell_type": "markdown",
   "metadata": {},
   "source": [
    "# Q16\n",
    "\n",
    "Demonstrate how to use Python’s list comprehension syntax to produce\n",
    "the list [0, 2, 6, 12, 20, 30, 42, 56, 72, 90].\n"
   ]
  },
  {
   "cell_type": "code",
   "execution_count": 42,
   "metadata": {},
   "outputs": [
    {
     "name": "stdout",
     "output_type": "stream",
     "text": [
      "[0, 2, 6, 12, 20, 30, 42, 56, 72, 90]\n"
     ]
    }
   ],
   "source": [
    "print([n * (n + 1) for n in range(0, 10)])"
   ]
  },
  {
   "cell_type": "markdown",
   "metadata": {},
   "source": [
    "# Q17\n",
    "\n",
    "Demonstrate how to use Python’s list comprehension syntax to produce\n",
    "the list [ a , b , c , ..., z ], but without having to type all 26 such\n",
    "characters literally.\n"
   ]
  },
  {
   "cell_type": "code",
   "execution_count": 43,
   "metadata": {},
   "outputs": [
    {
     "name": "stdout",
     "output_type": "stream",
     "text": [
      "['a', 'b', 'c', 'd', 'e', 'f', 'g', 'h', 'i', 'j', 'k', 'l', 'm', 'n', 'o', 'p', 'q', 'r', 's', 't', 'u', 'v', 'w', 'x', 'y', 'z']\n"
     ]
    }
   ],
   "source": [
    "print([chr(i) for i in range(ord(\"a\"), ord(\"z\") + 1)])"
   ]
  },
  {
   "cell_type": "markdown",
   "metadata": {},
   "source": [
    "# Q20\n",
    "\n",
    "Python’s random module includes a function shuffle(data) that accepts a\n",
    "list of elements and randomly reorders the elements so that each possi\u0002ble order occurs with equal probability. The random module includes a\n",
    "more basic function randint(a, b) that returns a uniformly random integer\n",
    "from a to b (including both endpoints). Using only the randint function,\n",
    "implement your own version of the shuffle function\n"
   ]
  },
  {
   "cell_type": "code",
   "execution_count": 44,
   "metadata": {},
   "outputs": [
    {
     "name": "stdout",
     "output_type": "stream",
     "text": [
      "[6, 7, 25, 20]\n"
     ]
    }
   ],
   "source": [
    "a = [20, 25, 6, 7]\n",
    "random.shuffle(a)\n",
    "print(a)"
   ]
  },
  {
   "cell_type": "code",
   "execution_count": 45,
   "metadata": {},
   "outputs": [
    {
     "data": {
      "text/plain": [
       "3"
      ]
     },
     "execution_count": 45,
     "metadata": {},
     "output_type": "execute_result"
    }
   ],
   "source": [
    "a = random.randint(1, 5)\n",
    "a"
   ]
  },
  {
   "cell_type": "code",
   "execution_count": 46,
   "metadata": {},
   "outputs": [],
   "source": [
    "def custom_shuffle(data):\n",
    "    max = data[0]\n",
    "    min = data[0]\n",
    "    result = []\n",
    "    for i in data:\n",
    "        if i >= max:\n",
    "            max = i\n",
    "        if i <= min:\n",
    "            min = i\n",
    "    print(min, max)\n",
    "    a = random.randint(min, max)\n",
    "    while len(result) != len(data):\n",
    "\n",
    "        if a in data and a not in result:\n",
    "            result.append(a)\n",
    "        else:\n",
    "            a = random.randint(min, max)\n",
    "    return result"
   ]
  },
  {
   "cell_type": "code",
   "execution_count": 47,
   "metadata": {},
   "outputs": [
    {
     "name": "stdout",
     "output_type": "stream",
     "text": [
      "6 25\n"
     ]
    },
    {
     "data": {
      "text/plain": [
       "[6, 20, 7, 25]"
      ]
     },
     "execution_count": 47,
     "metadata": {},
     "output_type": "execute_result"
    }
   ],
   "source": [
    "custom_shuffle([20, 6, 25, 7])"
   ]
  },
  {
   "cell_type": "markdown",
   "metadata": {},
   "source": [
    "# Q22\n",
    "\n",
    "Write a short Python program that takes two arrays a and b of length n\n",
    "storing int values, and returns the dot product of a and b. That is, it returns\n",
    "an array c of length n such that c[i] = a[i] · b[i], for i = 0,...,n−1\n"
   ]
  },
  {
   "cell_type": "code",
   "execution_count": 56,
   "metadata": {},
   "outputs": [],
   "source": [
    "def dot_product(a, b):\n",
    "    c = []\n",
    "    if len(a) != len(b):\n",
    "        return \"Size mismatch eroor\"\n",
    "    for i in range(len(a)):\n",
    "        c.append(a[i] * b[i])\n",
    "    return c"
   ]
  },
  {
   "cell_type": "code",
   "execution_count": 59,
   "metadata": {},
   "outputs": [
    {
     "data": {
      "text/plain": [
       "[2, 4, 24]"
      ]
     },
     "execution_count": 59,
     "metadata": {},
     "output_type": "execute_result"
    }
   ],
   "source": [
    "dot_product([1, 2, 6], [2, 2, 4])"
   ]
  },
  {
   "cell_type": "markdown",
   "metadata": {},
   "source": [
    "# Q23\n",
    "\n",
    "Give an example of a Python code fragment that attempts to write an ele\u0002ment to a list based on an index that may be out of bounds. If that index\n",
    "is out of bounds, the program should catch the exception that results, and\n",
    "print the following error message:\n",
    "“Don’t try buffer overflow attacks in Python!”\n"
   ]
  },
  {
   "cell_type": "code",
   "execution_count": 60,
   "metadata": {},
   "outputs": [],
   "source": [
    "def write_to_list(my_list, index, value):\n",
    "    try:\n",
    "        my_list[index] = value\n",
    "    except IndexError:\n",
    "        print(\"Don’t try buffer overflow attacks in Python!\")"
   ]
  },
  {
   "cell_type": "code",
   "execution_count": 61,
   "metadata": {},
   "outputs": [
    {
     "name": "stdout",
     "output_type": "stream",
     "text": [
      "Don’t try buffer overflow attacks in Python!\n"
     ]
    }
   ],
   "source": [
    "mlist = [1, 2, 3, 4]\n",
    "write_to_list(my_list=mlist, index=6, value=10)"
   ]
  },
  {
   "cell_type": "markdown",
   "metadata": {},
   "source": [
    "# Q24\n",
    "\n",
    "Write a short Python function that counts the number of vowels in a given\n",
    "character string\n"
   ]
  },
  {
   "cell_type": "code",
   "execution_count": 69,
   "metadata": {},
   "outputs": [],
   "source": [
    "def c_vowels(s):\n",
    "    s = list(s)\n",
    "    c = 0\n",
    "    v = [\"a\", \"e\", \"i\", \"o\", \"u\", \"A\", \"E\", \"I\", \"O\", \"U\"]\n",
    "    for i in range(len(s)):\n",
    "        if s[i] in v:\n",
    "            c += 1\n",
    "    return c"
   ]
  },
  {
   "cell_type": "code",
   "execution_count": 70,
   "metadata": {},
   "outputs": [
    {
     "data": {
      "text/plain": [
       "2"
      ]
     },
     "execution_count": 70,
     "metadata": {},
     "output_type": "execute_result"
    }
   ],
   "source": [
    "c_vowels(\"Rishabh\")"
   ]
  },
  {
   "cell_type": "markdown",
   "metadata": {},
   "source": [
    "# Q25\n",
    "\n",
    "Write a short Python function that takes a string s, representing a sentence,\n",
    "and returns a copy of the string with all punctuation removed. For exam\u0002ple, if given the string \"Let s try, Mike.\", this function would return\n",
    "\"Lets try Mike\".\n"
   ]
  },
  {
   "cell_type": "code",
   "execution_count": 123,
   "metadata": {},
   "outputs": [
    {
     "name": "stdout",
     "output_type": "stream",
     "text": [
      "['!', '\"', '#', '$', '%', '&', \"'\", '(', ')', '*', '+', ',', '-', '.', '/', ':', ';', '<', '=', '>', '?', '@', '[', '\\\\', ']', '^', '_', '`', '{', '|', '}', '~']\n"
     ]
    }
   ],
   "source": [
    "import string\n",
    "\n",
    "punctuations = list(string.punctuation)\n",
    "print(punctuations)\n",
    "\n",
    "\n",
    "def remove_punc(s):\n",
    "\n",
    "    s = list(s)\n",
    "    d = []\n",
    "    for i in s:\n",
    "        if i not in punctuations:\n",
    "            d.append(i)\n",
    "        else:\n",
    "            s.pop\n",
    "\n",
    "    print(d)\n",
    "    return \"\".join(d)"
   ]
  },
  {
   "cell_type": "code",
   "execution_count": 129,
   "metadata": {},
   "outputs": [
    {
     "name": "stdout",
     "output_type": "stream",
     "text": [
      "['L', 'e', 't', ' ', 's', ' ', 't', 'r', 'y', ' ', 'M', 'i', 'k', 'e']\n"
     ]
    },
    {
     "data": {
      "text/plain": [
       "'Let s try Mike'"
      ]
     },
     "execution_count": 129,
     "metadata": {},
     "output_type": "execute_result"
    }
   ],
   "source": [
    "remove_punc(\"Let s try, Mike.\")"
   ]
  },
  {
   "cell_type": "markdown",
   "metadata": {},
   "source": [
    "# Q\n"
   ]
  },
  {
   "cell_type": "code",
   "execution_count": 144,
   "metadata": {},
   "outputs": [],
   "source": [
    "def factors(n):\n",
    "    f = []\n",
    "    k = 1\n",
    "    while k * k < n:\n",
    "        if n % k == 0:\n",
    "            yield k\n",
    "            if k != n // k:\n",
    "                f.append(n // k)\n",
    "        k += 1\n",
    "    if k * k == n:\n",
    "        yield (k)\n",
    "    for factor in reversed(f):\n",
    "        yield factor"
   ]
  },
  {
   "cell_type": "code",
   "execution_count": 145,
   "metadata": {},
   "outputs": [
    {
     "name": "stdout",
     "output_type": "stream",
     "text": [
      "1\n",
      "2\n",
      "4\n",
      "5\n",
      "10\n",
      "20\n",
      "25\n",
      "50\n",
      "100\n"
     ]
    }
   ],
   "source": [
    "for i in factors(100):\n",
    "    print(i)"
   ]
  },
  {
   "cell_type": "markdown",
   "metadata": {},
   "source": [
    "# Q28\n",
    "\n",
    "The p-norm of a vector v = (v1,v2,...,vn) in n-dimensional space is de\u0002fined as\n",
    "\n",
    "\u0007v\u0007 =\n",
    "\u0002p\n",
    "v\n",
    "p\n",
    "1 +v\n",
    "p\n",
    "2 +···+v\n",
    "p\n",
    "n .\n",
    "\n",
    "For the special case of p = 2, this results in the traditional Euclidean\n",
    "norm, which represents the length of the vector. For example, the Eu\u0002clidean norm of a two-dimensional vector with coordinates (4,3) has a\n",
    "Euclidean norm of √\n",
    "42 +32 = √16+9 = √\n",
    "25 = 5. Give an implemen\u0002tation of a function named norm such that norm(v, p) returns the p-norm\n",
    "value of v and norm(v) returns the Euclidean norm of v. You may assume\n",
    "that v is a list of numbers\n"
   ]
  },
  {
   "cell_type": "code",
   "execution_count": 168,
   "metadata": {},
   "outputs": [],
   "source": [
    "import math"
   ]
  },
  {
   "cell_type": "code",
   "execution_count": 166,
   "metadata": {},
   "outputs": [],
   "source": [
    "def norm(v, p=2):\n",
    "    sum = 0\n",
    "    for i in range(len(v)):\n",
    "        sum += v[i] ** p\n",
    "    val = sum ** (1 / p)\n",
    "    return val"
   ]
  },
  {
   "cell_type": "code",
   "execution_count": 167,
   "metadata": {},
   "outputs": [
    {
     "data": {
      "text/plain": [
       "4.497941445275415"
      ]
     },
     "execution_count": 167,
     "metadata": {},
     "output_type": "execute_result"
    }
   ],
   "source": [
    "norm([4, 3], 3)"
   ]
  },
  {
   "cell_type": "code",
   "execution_count": 170,
   "metadata": {},
   "outputs": [],
   "source": [
    "def norm1(v, p=None):\n",
    "    if p == None:\n",
    "        return math.sqrt(sum(x**2 for x in v))\n",
    "    else:\n",
    "        return (sum(abs(x) ** p for x in v)) ** (1 / p)"
   ]
  },
  {
   "cell_type": "code",
   "execution_count": 172,
   "metadata": {},
   "outputs": [
    {
     "data": {
      "text/plain": [
       "4.497941445275415"
      ]
     },
     "execution_count": 172,
     "metadata": {},
     "output_type": "execute_result"
    }
   ],
   "source": [
    "norm1([4, 3], 3)"
   ]
  },
  {
   "cell_type": "markdown",
   "metadata": {},
   "source": [
    "# Q29\n",
    "\n",
    "Write a Python program that outputs all possible strings formed by using\n",
    "the characters c , a , t , d , o , and g exactly once.\n"
   ]
  },
  {
   "cell_type": "code",
   "execution_count": 173,
   "metadata": {},
   "outputs": [
    {
     "name": "stdout",
     "output_type": "stream",
     "text": [
      "catdog\n",
      "catdgo\n",
      "catodg\n",
      "catogd\n",
      "catgdo\n",
      "catgod\n",
      "cadtog\n",
      "cadtgo\n",
      "cadotg\n",
      "cadogt\n",
      "cadgto\n",
      "cadgot\n",
      "caotdg\n",
      "caotgd\n",
      "caodtg\n",
      "caodgt\n",
      "caogtd\n",
      "caogdt\n",
      "cagtdo\n",
      "cagtod\n",
      "cagdto\n",
      "cagdot\n",
      "cagotd\n",
      "cagodt\n",
      "ctadog\n",
      "ctadgo\n",
      "ctaodg\n",
      "ctaogd\n",
      "ctagdo\n",
      "ctagod\n",
      "ctdaog\n",
      "ctdago\n",
      "ctdoag\n",
      "ctdoga\n",
      "ctdgao\n",
      "ctdgoa\n",
      "ctoadg\n",
      "ctoagd\n",
      "ctodag\n",
      "ctodga\n",
      "ctogad\n",
      "ctogda\n",
      "ctgado\n",
      "ctgaod\n",
      "ctgdao\n",
      "ctgdoa\n",
      "ctgoad\n",
      "ctgoda\n",
      "cdatog\n",
      "cdatgo\n",
      "cdaotg\n",
      "cdaogt\n",
      "cdagto\n",
      "cdagot\n",
      "cdtaog\n",
      "cdtago\n",
      "cdtoag\n",
      "cdtoga\n",
      "cdtgao\n",
      "cdtgoa\n",
      "cdoatg\n",
      "cdoagt\n",
      "cdotag\n",
      "cdotga\n",
      "cdogat\n",
      "cdogta\n",
      "cdgato\n",
      "cdgaot\n",
      "cdgtao\n",
      "cdgtoa\n",
      "cdgoat\n",
      "cdgota\n",
      "coatdg\n",
      "coatgd\n",
      "coadtg\n",
      "coadgt\n",
      "coagtd\n",
      "coagdt\n",
      "cotadg\n",
      "cotagd\n",
      "cotdag\n",
      "cotdga\n",
      "cotgad\n",
      "cotgda\n",
      "codatg\n",
      "codagt\n",
      "codtag\n",
      "codtga\n",
      "codgat\n",
      "codgta\n",
      "cogatd\n",
      "cogadt\n",
      "cogtad\n",
      "cogtda\n",
      "cogdat\n",
      "cogdta\n",
      "cgatdo\n",
      "cgatod\n",
      "cgadto\n",
      "cgadot\n",
      "cgaotd\n",
      "cgaodt\n",
      "cgtado\n",
      "cgtaod\n",
      "cgtdao\n",
      "cgtdoa\n",
      "cgtoad\n",
      "cgtoda\n",
      "cgdato\n",
      "cgdaot\n",
      "cgdtao\n",
      "cgdtoa\n",
      "cgdoat\n",
      "cgdota\n",
      "cgoatd\n",
      "cgoadt\n",
      "cgotad\n",
      "cgotda\n",
      "cgodat\n",
      "cgodta\n",
      "actdog\n",
      "actdgo\n",
      "actodg\n",
      "actogd\n",
      "actgdo\n",
      "actgod\n",
      "acdtog\n",
      "acdtgo\n",
      "acdotg\n",
      "acdogt\n",
      "acdgto\n",
      "acdgot\n",
      "acotdg\n",
      "acotgd\n",
      "acodtg\n",
      "acodgt\n",
      "acogtd\n",
      "acogdt\n",
      "acgtdo\n",
      "acgtod\n",
      "acgdto\n",
      "acgdot\n",
      "acgotd\n",
      "acgodt\n",
      "atcdog\n",
      "atcdgo\n",
      "atcodg\n",
      "atcogd\n",
      "atcgdo\n",
      "atcgod\n",
      "atdcog\n",
      "atdcgo\n",
      "atdocg\n",
      "atdogc\n",
      "atdgco\n",
      "atdgoc\n",
      "atocdg\n",
      "atocgd\n",
      "atodcg\n",
      "atodgc\n",
      "atogcd\n",
      "atogdc\n",
      "atgcdo\n",
      "atgcod\n",
      "atgdco\n",
      "atgdoc\n",
      "atgocd\n",
      "atgodc\n",
      "adctog\n",
      "adctgo\n",
      "adcotg\n",
      "adcogt\n",
      "adcgto\n",
      "adcgot\n",
      "adtcog\n",
      "adtcgo\n",
      "adtocg\n",
      "adtogc\n",
      "adtgco\n",
      "adtgoc\n",
      "adoctg\n",
      "adocgt\n",
      "adotcg\n",
      "adotgc\n",
      "adogct\n",
      "adogtc\n",
      "adgcto\n",
      "adgcot\n",
      "adgtco\n",
      "adgtoc\n",
      "adgoct\n",
      "adgotc\n",
      "aoctdg\n",
      "aoctgd\n",
      "aocdtg\n",
      "aocdgt\n",
      "aocgtd\n",
      "aocgdt\n",
      "aotcdg\n",
      "aotcgd\n",
      "aotdcg\n",
      "aotdgc\n",
      "aotgcd\n",
      "aotgdc\n",
      "aodctg\n",
      "aodcgt\n",
      "aodtcg\n",
      "aodtgc\n",
      "aodgct\n",
      "aodgtc\n",
      "aogctd\n",
      "aogcdt\n",
      "aogtcd\n",
      "aogtdc\n",
      "aogdct\n",
      "aogdtc\n",
      "agctdo\n",
      "agctod\n",
      "agcdto\n",
      "agcdot\n",
      "agcotd\n",
      "agcodt\n",
      "agtcdo\n",
      "agtcod\n",
      "agtdco\n",
      "agtdoc\n",
      "agtocd\n",
      "agtodc\n",
      "agdcto\n",
      "agdcot\n",
      "agdtco\n",
      "agdtoc\n",
      "agdoct\n",
      "agdotc\n",
      "agoctd\n",
      "agocdt\n",
      "agotcd\n",
      "agotdc\n",
      "agodct\n",
      "agodtc\n",
      "tcadog\n",
      "tcadgo\n",
      "tcaodg\n",
      "tcaogd\n",
      "tcagdo\n",
      "tcagod\n",
      "tcdaog\n",
      "tcdago\n",
      "tcdoag\n",
      "tcdoga\n",
      "tcdgao\n",
      "tcdgoa\n",
      "tcoadg\n",
      "tcoagd\n",
      "tcodag\n",
      "tcodga\n",
      "tcogad\n",
      "tcogda\n",
      "tcgado\n",
      "tcgaod\n",
      "tcgdao\n",
      "tcgdoa\n",
      "tcgoad\n",
      "tcgoda\n",
      "tacdog\n",
      "tacdgo\n",
      "tacodg\n",
      "tacogd\n",
      "tacgdo\n",
      "tacgod\n",
      "tadcog\n",
      "tadcgo\n",
      "tadocg\n",
      "tadogc\n",
      "tadgco\n",
      "tadgoc\n",
      "taocdg\n",
      "taocgd\n",
      "taodcg\n",
      "taodgc\n",
      "taogcd\n",
      "taogdc\n",
      "tagcdo\n",
      "tagcod\n",
      "tagdco\n",
      "tagdoc\n",
      "tagocd\n",
      "tagodc\n",
      "tdcaog\n",
      "tdcago\n",
      "tdcoag\n",
      "tdcoga\n",
      "tdcgao\n",
      "tdcgoa\n",
      "tdacog\n",
      "tdacgo\n",
      "tdaocg\n",
      "tdaogc\n",
      "tdagco\n",
      "tdagoc\n",
      "tdocag\n",
      "tdocga\n",
      "tdoacg\n",
      "tdoagc\n",
      "tdogca\n",
      "tdogac\n",
      "tdgcao\n",
      "tdgcoa\n",
      "tdgaco\n",
      "tdgaoc\n",
      "tdgoca\n",
      "tdgoac\n",
      "tocadg\n",
      "tocagd\n",
      "tocdag\n",
      "tocdga\n",
      "tocgad\n",
      "tocgda\n",
      "toacdg\n",
      "toacgd\n",
      "toadcg\n",
      "toadgc\n",
      "toagcd\n",
      "toagdc\n",
      "todcag\n",
      "todcga\n",
      "todacg\n",
      "todagc\n",
      "todgca\n",
      "todgac\n",
      "togcad\n",
      "togcda\n",
      "togacd\n",
      "togadc\n",
      "togdca\n",
      "togdac\n",
      "tgcado\n",
      "tgcaod\n",
      "tgcdao\n",
      "tgcdoa\n",
      "tgcoad\n",
      "tgcoda\n",
      "tgacdo\n",
      "tgacod\n",
      "tgadco\n",
      "tgadoc\n",
      "tgaocd\n",
      "tgaodc\n",
      "tgdcao\n",
      "tgdcoa\n",
      "tgdaco\n",
      "tgdaoc\n",
      "tgdoca\n",
      "tgdoac\n",
      "tgocad\n",
      "tgocda\n",
      "tgoacd\n",
      "tgoadc\n",
      "tgodca\n",
      "tgodac\n",
      "dcatog\n",
      "dcatgo\n",
      "dcaotg\n",
      "dcaogt\n",
      "dcagto\n",
      "dcagot\n",
      "dctaog\n",
      "dctago\n",
      "dctoag\n",
      "dctoga\n",
      "dctgao\n",
      "dctgoa\n",
      "dcoatg\n",
      "dcoagt\n",
      "dcotag\n",
      "dcotga\n",
      "dcogat\n",
      "dcogta\n",
      "dcgato\n",
      "dcgaot\n",
      "dcgtao\n",
      "dcgtoa\n",
      "dcgoat\n",
      "dcgota\n",
      "dactog\n",
      "dactgo\n",
      "dacotg\n",
      "dacogt\n",
      "dacgto\n",
      "dacgot\n",
      "datcog\n",
      "datcgo\n",
      "datocg\n",
      "datogc\n",
      "datgco\n",
      "datgoc\n",
      "daoctg\n",
      "daocgt\n",
      "daotcg\n",
      "daotgc\n",
      "daogct\n",
      "daogtc\n",
      "dagcto\n",
      "dagcot\n",
      "dagtco\n",
      "dagtoc\n",
      "dagoct\n",
      "dagotc\n",
      "dtcaog\n",
      "dtcago\n",
      "dtcoag\n",
      "dtcoga\n",
      "dtcgao\n",
      "dtcgoa\n",
      "dtacog\n",
      "dtacgo\n",
      "dtaocg\n",
      "dtaogc\n",
      "dtagco\n",
      "dtagoc\n",
      "dtocag\n",
      "dtocga\n",
      "dtoacg\n",
      "dtoagc\n",
      "dtogca\n",
      "dtogac\n",
      "dtgcao\n",
      "dtgcoa\n",
      "dtgaco\n",
      "dtgaoc\n",
      "dtgoca\n",
      "dtgoac\n",
      "docatg\n",
      "docagt\n",
      "doctag\n",
      "doctga\n",
      "docgat\n",
      "docgta\n",
      "doactg\n",
      "doacgt\n",
      "doatcg\n",
      "doatgc\n",
      "doagct\n",
      "doagtc\n",
      "dotcag\n",
      "dotcga\n",
      "dotacg\n",
      "dotagc\n",
      "dotgca\n",
      "dotgac\n",
      "dogcat\n",
      "dogcta\n",
      "dogact\n",
      "dogatc\n",
      "dogtca\n",
      "dogtac\n",
      "dgcato\n",
      "dgcaot\n",
      "dgctao\n",
      "dgctoa\n",
      "dgcoat\n",
      "dgcota\n",
      "dgacto\n",
      "dgacot\n",
      "dgatco\n",
      "dgatoc\n",
      "dgaoct\n",
      "dgaotc\n",
      "dgtcao\n",
      "dgtcoa\n",
      "dgtaco\n",
      "dgtaoc\n",
      "dgtoca\n",
      "dgtoac\n",
      "dgocat\n",
      "dgocta\n",
      "dgoact\n",
      "dgoatc\n",
      "dgotca\n",
      "dgotac\n",
      "ocatdg\n",
      "ocatgd\n",
      "ocadtg\n",
      "ocadgt\n",
      "ocagtd\n",
      "ocagdt\n",
      "octadg\n",
      "octagd\n",
      "octdag\n",
      "octdga\n",
      "octgad\n",
      "octgda\n",
      "ocdatg\n",
      "ocdagt\n",
      "ocdtag\n",
      "ocdtga\n",
      "ocdgat\n",
      "ocdgta\n",
      "ocgatd\n",
      "ocgadt\n",
      "ocgtad\n",
      "ocgtda\n",
      "ocgdat\n",
      "ocgdta\n",
      "oactdg\n",
      "oactgd\n",
      "oacdtg\n",
      "oacdgt\n",
      "oacgtd\n",
      "oacgdt\n",
      "oatcdg\n",
      "oatcgd\n",
      "oatdcg\n",
      "oatdgc\n",
      "oatgcd\n",
      "oatgdc\n",
      "oadctg\n",
      "oadcgt\n",
      "oadtcg\n",
      "oadtgc\n",
      "oadgct\n",
      "oadgtc\n",
      "oagctd\n",
      "oagcdt\n",
      "oagtcd\n",
      "oagtdc\n",
      "oagdct\n",
      "oagdtc\n",
      "otcadg\n",
      "otcagd\n",
      "otcdag\n",
      "otcdga\n",
      "otcgad\n",
      "otcgda\n",
      "otacdg\n",
      "otacgd\n",
      "otadcg\n",
      "otadgc\n",
      "otagcd\n",
      "otagdc\n",
      "otdcag\n",
      "otdcga\n",
      "otdacg\n",
      "otdagc\n",
      "otdgca\n",
      "otdgac\n",
      "otgcad\n",
      "otgcda\n",
      "otgacd\n",
      "otgadc\n",
      "otgdca\n",
      "otgdac\n",
      "odcatg\n",
      "odcagt\n",
      "odctag\n",
      "odctga\n",
      "odcgat\n",
      "odcgta\n",
      "odactg\n",
      "odacgt\n",
      "odatcg\n",
      "odatgc\n",
      "odagct\n",
      "odagtc\n",
      "odtcag\n",
      "odtcga\n",
      "odtacg\n",
      "odtagc\n",
      "odtgca\n",
      "odtgac\n",
      "odgcat\n",
      "odgcta\n",
      "odgact\n",
      "odgatc\n",
      "odgtca\n",
      "odgtac\n",
      "ogcatd\n",
      "ogcadt\n",
      "ogctad\n",
      "ogctda\n",
      "ogcdat\n",
      "ogcdta\n",
      "ogactd\n",
      "ogacdt\n",
      "ogatcd\n",
      "ogatdc\n",
      "ogadct\n",
      "ogadtc\n",
      "ogtcad\n",
      "ogtcda\n",
      "ogtacd\n",
      "ogtadc\n",
      "ogtdca\n",
      "ogtdac\n",
      "ogdcat\n",
      "ogdcta\n",
      "ogdact\n",
      "ogdatc\n",
      "ogdtca\n",
      "ogdtac\n",
      "gcatdo\n",
      "gcatod\n",
      "gcadto\n",
      "gcadot\n",
      "gcaotd\n",
      "gcaodt\n",
      "gctado\n",
      "gctaod\n",
      "gctdao\n",
      "gctdoa\n",
      "gctoad\n",
      "gctoda\n",
      "gcdato\n",
      "gcdaot\n",
      "gcdtao\n",
      "gcdtoa\n",
      "gcdoat\n",
      "gcdota\n",
      "gcoatd\n",
      "gcoadt\n",
      "gcotad\n",
      "gcotda\n",
      "gcodat\n",
      "gcodta\n",
      "gactdo\n",
      "gactod\n",
      "gacdto\n",
      "gacdot\n",
      "gacotd\n",
      "gacodt\n",
      "gatcdo\n",
      "gatcod\n",
      "gatdco\n",
      "gatdoc\n",
      "gatocd\n",
      "gatodc\n",
      "gadcto\n",
      "gadcot\n",
      "gadtco\n",
      "gadtoc\n",
      "gadoct\n",
      "gadotc\n",
      "gaoctd\n",
      "gaocdt\n",
      "gaotcd\n",
      "gaotdc\n",
      "gaodct\n",
      "gaodtc\n",
      "gtcado\n",
      "gtcaod\n",
      "gtcdao\n",
      "gtcdoa\n",
      "gtcoad\n",
      "gtcoda\n",
      "gtacdo\n",
      "gtacod\n",
      "gtadco\n",
      "gtadoc\n",
      "gtaocd\n",
      "gtaodc\n",
      "gtdcao\n",
      "gtdcoa\n",
      "gtdaco\n",
      "gtdaoc\n",
      "gtdoca\n",
      "gtdoac\n",
      "gtocad\n",
      "gtocda\n",
      "gtoacd\n",
      "gtoadc\n",
      "gtodca\n",
      "gtodac\n",
      "gdcato\n",
      "gdcaot\n",
      "gdctao\n",
      "gdctoa\n",
      "gdcoat\n",
      "gdcota\n",
      "gdacto\n",
      "gdacot\n",
      "gdatco\n",
      "gdatoc\n",
      "gdaoct\n",
      "gdaotc\n",
      "gdtcao\n",
      "gdtcoa\n",
      "gdtaco\n",
      "gdtaoc\n",
      "gdtoca\n",
      "gdtoac\n",
      "gdocat\n",
      "gdocta\n",
      "gdoact\n",
      "gdoatc\n",
      "gdotca\n",
      "gdotac\n",
      "gocatd\n",
      "gocadt\n",
      "goctad\n",
      "goctda\n",
      "gocdat\n",
      "gocdta\n",
      "goactd\n",
      "goacdt\n",
      "goatcd\n",
      "goatdc\n",
      "goadct\n",
      "goadtc\n",
      "gotcad\n",
      "gotcda\n",
      "gotacd\n",
      "gotadc\n",
      "gotdca\n",
      "gotdac\n",
      "godcat\n",
      "godcta\n",
      "godact\n",
      "godatc\n",
      "godtca\n",
      "godtac\n"
     ]
    }
   ],
   "source": [
    "import itertools\n",
    "\n",
    "characters = \"catdog\"\n",
    "\n",
    "permutations = itertools.permutations(characters)\n",
    "\n",
    "for parm in permutations:\n",
    "    print(\"\".join(parm))"
   ]
  },
  {
   "cell_type": "markdown",
   "metadata": {},
   "source": [
    "# Q30\n",
    "\n",
    "Write a Python program that can take a positive integer greater than 2 as\n",
    "input and write out the number of times one must repeatedly divide this\n",
    "number by 2 before getting a value less than 2.\n"
   ]
  },
  {
   "cell_type": "code",
   "execution_count": 181,
   "metadata": {},
   "outputs": [],
   "source": [
    "def count_2_div(a: int):\n",
    "    c = 0\n",
    "    while a >= 2:\n",
    "        a /= 2\n",
    "        c += 1\n",
    "    return c"
   ]
  },
  {
   "cell_type": "code",
   "execution_count": 182,
   "metadata": {},
   "outputs": [
    {
     "data": {
      "text/plain": [
       "6"
      ]
     },
     "execution_count": 182,
     "metadata": {},
     "output_type": "execute_result"
    }
   ],
   "source": [
    "count_2_div(80)"
   ]
  },
  {
   "cell_type": "markdown",
   "metadata": {},
   "source": [
    "# Q31\n",
    "\n",
    "Write a Python program that can “make change.” Your program should\n",
    "take two numbers as input, one that is a monetary amount charged and the\n",
    "other that is a monetary amount given. It should then return the number\n",
    "of each kind of bill and coin to give back as change for the difference\n",
    "between the amount given and the amount charged. The values assigned\n",
    "to the bills and coins can be based on the monetary system of any current\n",
    "or former government. Try to design your program so that it returns as\n",
    "few bills and coins as possible\n"
   ]
  },
  {
   "cell_type": "code",
   "execution_count": 2,
   "metadata": {},
   "outputs": [
    {
     "data": {
      "text/plain": [
       "57"
      ]
     },
     "execution_count": 2,
     "metadata": {},
     "output_type": "execute_result"
    }
   ],
   "source": [
    "8961 % 84"
   ]
  },
  {
   "cell_type": "code",
   "execution_count": 3,
   "metadata": {},
   "outputs": [
    {
     "name": "stdout",
     "output_type": "stream",
     "text": [
      "1\n"
     ]
    }
   ],
   "source": [
    "n = int(input())\n",
    "lev = int(input())\n",
    "p = []\n",
    "b = []\n",
    "a = []\n",
    "ans = 0\n",
    "for i in range(n):\n",
    "    p.append(int(input()))\n",
    "for j in range(n):\n",
    "    b.append(int(input()))\n",
    "for k in range(n):\n",
    "    a.append([p[k], b[k]])\n",
    "a.sort()\n",
    "for z in a:\n",
    "    if z[0] > lev:\n",
    "        break\n",
    "    lev += z[1]\n",
    "    ans += 1\n",
    "print(ans)"
   ]
  },
  {
   "cell_type": "code",
   "execution_count": null,
   "metadata": {},
   "outputs": [],
   "source": []
  }
 ],
 "metadata": {
  "kernelspec": {
   "display_name": "Python 3",
   "language": "python",
   "name": "python3"
  },
  "language_info": {
   "codemirror_mode": {
    "name": "ipython",
    "version": 3
   },
   "file_extension": ".py",
   "mimetype": "text/x-python",
   "name": "python",
   "nbconvert_exporter": "python",
   "pygments_lexer": "ipython3",
   "version": "3.12.3"
  }
 },
 "nbformat": 4,
 "nbformat_minor": 2
}
