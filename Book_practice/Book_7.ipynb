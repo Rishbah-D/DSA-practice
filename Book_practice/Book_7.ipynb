{
 "cells": [
  {
   "cell_type": "markdown",
   "metadata": {},
   "source": [
    "# Linked List "
   ]
  },
  {
   "cell_type": "markdown",
   "metadata": {},
   "source": [
    "## STACK (ADT) as SLL"
   ]
  },
  {
   "cell_type": "code",
   "execution_count": 241,
   "metadata": {},
   "outputs": [],
   "source": [
    "class LinkedStack:\n",
    "    \n",
    "    class _Node:\n",
    "        __slots__ = \"_element\" ,'_next'\n",
    "        \n",
    "        def __init__(self,element,next):\n",
    "            self._element = element\n",
    "            self._next = next\n",
    "            \n",
    "        \n",
    "    def __init__(self):\n",
    "        self._head =None\n",
    "        self._size=0\n",
    "        \n",
    "    def __len__(self):\n",
    "        return self._size\n",
    "    \n",
    "    def is_empty(self):\n",
    "        return self._size==0\n",
    "    \n",
    "    def top(self):\n",
    "        if self._size==0:\n",
    "            return \"Stack is Empty\"\n",
    "        return self._head._element \n",
    "    \n",
    "    def push(self,e):\n",
    "        self._head=self._Node(e,self._head)\n",
    "        self._size+=1\n",
    "        \n",
    "    def pop(self):\n",
    "        if self._size==0:\n",
    "            return \"Stack Empty\"\n",
    "        answer=self._head._element\n",
    "        self._head = self._head._next\n",
    "        self._size-=1\n",
    "        return answer\n",
    "    \n",
    "    def __str__(self):\n",
    "        elements =[]\n",
    "        current = self._head\n",
    "        while current is not None:\n",
    "            elements.append(str(current._element))\n",
    "            current=current._next\n",
    "            \n",
    "        return \"->\".join(elements) if elements else \"Stack empty\"\n"
   ]
  },
  {
   "cell_type": "code",
   "execution_count": 242,
   "metadata": {},
   "outputs": [],
   "source": [
    "LL=LinkedStack()\n",
    "LL.push(7)\n",
    "LL.push(8)\n",
    "LL.push(9)"
   ]
  },
  {
   "cell_type": "code",
   "execution_count": 243,
   "metadata": {},
   "outputs": [
    {
     "data": {
      "text/plain": [
       "9"
      ]
     },
     "execution_count": 243,
     "metadata": {},
     "output_type": "execute_result"
    }
   ],
   "source": [
    "LL.top()"
   ]
  },
  {
   "cell_type": "code",
   "execution_count": 244,
   "metadata": {},
   "outputs": [
    {
     "data": {
      "text/plain": [
       "False"
      ]
     },
     "execution_count": 244,
     "metadata": {},
     "output_type": "execute_result"
    }
   ],
   "source": [
    "LL.is_empty()"
   ]
  },
  {
   "cell_type": "code",
   "execution_count": 245,
   "metadata": {},
   "outputs": [
    {
     "name": "stdout",
     "output_type": "stream",
     "text": [
      "9->8->7\n"
     ]
    }
   ],
   "source": [
    "print(LL)"
   ]
  },
  {
   "cell_type": "code",
   "execution_count": 246,
   "metadata": {},
   "outputs": [],
   "source": [
    "class LinkedQueue:\n",
    "    class _Nodes:\n",
    "        __slots__ ='_elements' ,'_next'\n",
    "        def __init__(self,elements,next) -> None:\n",
    "            self._elements = elements\n",
    "            self._next = next\n",
    "            \n",
    "    def __init__(self) -> None:\n",
    "        self._head =None\n",
    "        self._tail =None\n",
    "        self._size=0\n",
    "        \n",
    "    def __len__(self):\n",
    "        return self._size\n",
    "    \n",
    "    def is_empty(self):\n",
    "        return self._size==0\n",
    "    \n",
    "    def first(self):\n",
    "        if self.is_empty():\n",
    "            return \"Empty\"\n",
    "        return self._head._elements\n",
    "    \n",
    "    def dequeue(self):\n",
    "        if self.is_empty():\n",
    "            return \"Empty\"\n",
    "        answer = self._head._elements\n",
    "        self._head=self._head._next\n",
    "        self._size-=1\n",
    "        if self.is_empty():\n",
    "            self._tail = None\n",
    "        return answer \n",
    "    \n",
    "    def enqueue(self,e):\n",
    "        newest = self._Nodes(e,None)\n",
    "        \n",
    "        if self.is_empty():\n",
    "            self._head=newest\n",
    "        else:\n",
    "            self._tail._next = newest\n",
    "        self._tail = newest\n",
    "        self._size+=1\n",
    "        \n",
    "    def __str__(self) -> str:\n",
    "        elements =[]\n",
    "        current = self._head\n",
    "        while current is not None:\n",
    "            elements.append(str(current._elements))\n",
    "            current=current._next\n",
    "            \n",
    "        return \"Head->\"+\"->\".join(elements) + \"->Tail\"\n",
    "    \n",
    "    def Last(self):\n",
    "        if self.is_empty():\n",
    "            return \"empty\"\n",
    "        return self._tail._elements"
   ]
  },
  {
   "cell_type": "code",
   "execution_count": 247,
   "metadata": {},
   "outputs": [],
   "source": [
    "Lq=LinkedQueue()\n",
    "\n"
   ]
  },
  {
   "cell_type": "code",
   "execution_count": 248,
   "metadata": {},
   "outputs": [],
   "source": [
    "Lq.enqueue(7)\n",
    "Lq.enqueue(5)\n",
    "Lq.enqueue(3)\n",
    "Lq.enqueue(9)"
   ]
  },
  {
   "cell_type": "code",
   "execution_count": 249,
   "metadata": {},
   "outputs": [
    {
     "name": "stdout",
     "output_type": "stream",
     "text": [
      "Head->7->5->3->9->Tail\n"
     ]
    }
   ],
   "source": [
    "print(Lq)"
   ]
  },
  {
   "cell_type": "code",
   "execution_count": 250,
   "metadata": {},
   "outputs": [
    {
     "data": {
      "text/plain": [
       "7"
      ]
     },
     "execution_count": 250,
     "metadata": {},
     "output_type": "execute_result"
    }
   ],
   "source": [
    "Lq.first()"
   ]
  },
  {
   "cell_type": "code",
   "execution_count": 251,
   "metadata": {},
   "outputs": [
    {
     "data": {
      "text/plain": [
       "9"
      ]
     },
     "execution_count": 251,
     "metadata": {},
     "output_type": "execute_result"
    }
   ],
   "source": [
    "Lq.Last()"
   ]
  },
  {
   "cell_type": "markdown",
   "metadata": {},
   "source": [
    "# Queue as a Circular Linked list"
   ]
  },
  {
   "cell_type": "code",
   "execution_count": 252,
   "metadata": {},
   "outputs": [],
   "source": [
    "class CircularQueue:\n",
    "    \n",
    "    class _Node:\n",
    "        __slots__ = '_element' ,'_next'\n",
    "        def __init__(self,element,next):\n",
    "            self._element = element\n",
    "            self._next = next\n",
    "            \n",
    "    def __init__(self):\n",
    "        self._tail = None \n",
    "        self._size = 0\n",
    "        \n",
    "    def __len__(self):\n",
    "        return self._size\n",
    "    \n",
    "    def is_empty(self):\n",
    "        return self._size==0\n",
    "    \n",
    "    def first(self):\n",
    "        if self.is_empty():\n",
    "            return \"Empty\"\n",
    "        self._head = self._tail._next\n",
    "        return self._head._element  # or maybe self._tail._next._element????\n",
    "    \n",
    "    def dequeue(self):\n",
    "        if self.is_empty():\n",
    "            return \"Empty\"\n",
    "        oldhead= self._tail._next\n",
    "        if self._size==1:\n",
    "            self._tail=None\n",
    "        else:\n",
    "            self._tail._next = oldhead._next\n",
    "        self._size-=1\n",
    "        return oldhead._element   \n",
    "    ####------ Here first we assign the Head element [self.tail.next] to an IDENTIFIER then the checking is done if it's the only element in the queue why?? u ask ---> well because we are identifying with tail so if only one element it is the head and it is the tail also this is a circular queue so it'll point to itself... got it ???\n",
    "    # then -> if it's not the case so self.tail points to the object just next to self.head [oldhead]...size reduces and you get your answer \n",
    "    \n",
    "    def enqueue(self,e):\n",
    "        newest = self._Node(e,None)  # a new node is created \n",
    "        if self.is_empty():\n",
    "            newest._next = newest  # establish a cyclic structure got it???\n",
    "            \n",
    "        else:\n",
    "            newest._next = self._tail._next # new node is pointing to HEAD or tail.next..\n",
    "            self._tail._next = newest # then this tail will be pointing to new node to establish the link...---order is mandatory---\n",
    "        self._tail = newest # now the tail reference is the shifted to newest...why???? because in queue addition is done at tail.... LIKE STANDING IN A QUEUE duh!!!!!!!\n",
    "        self._size+=1\n",
    "        \n",
    "        \n",
    "    def rotate(self):\n",
    "        if self._size>0:\n",
    "            self._tail = self._tail._next   # shifts the tail reference just by one.... got it???\n",
    "            \n",
    "    def __str__(self):\n",
    "        if self.is_empty():\n",
    "            return \"Empty\"\n",
    "        elements=[]\n",
    "        current = self._tail._next  # here we assign current as head [special case as it is a circular queue if size ==1 (head = tail) that's also taken care of in EQ-1 ]\n",
    "        while current is not self._tail:  # checking if HEAD isn't equal to tail for example we have two entries 4,10... 10 is the tail 4 is head so the loop checks if 4 is 10? answer is no loop works 4 get appended... now curr refernce to next in this case that is 10 (which is equal to the tail) so loop ends.. but the for that case we have manual code for appending the tail elemnent ar EQ-1\n",
    "                elements.append(str(current._element))\n",
    "                current=current._next\n",
    "        elements.append(str(self._tail._element)) # this is EQ-1\n",
    "        return \"Head->\"+\"->\".join(elements) + \"->Tail\"\n",
    "            "
   ]
  },
  {
   "cell_type": "code",
   "execution_count": 253,
   "metadata": {},
   "outputs": [],
   "source": [
    "Cq = CircularQueue()\n",
    "Cq.enqueue(10)\n"
   ]
  },
  {
   "cell_type": "code",
   "execution_count": 254,
   "metadata": {},
   "outputs": [
    {
     "data": {
      "text/plain": [
       "False"
      ]
     },
     "execution_count": 254,
     "metadata": {},
     "output_type": "execute_result"
    }
   ],
   "source": [
    "Cq.is_empty()"
   ]
  },
  {
   "cell_type": "code",
   "execution_count": 255,
   "metadata": {},
   "outputs": [
    {
     "data": {
      "text/plain": [
       "10"
      ]
     },
     "execution_count": 255,
     "metadata": {},
     "output_type": "execute_result"
    }
   ],
   "source": [
    "Cq.dequeue()"
   ]
  },
  {
   "cell_type": "code",
   "execution_count": 256,
   "metadata": {},
   "outputs": [
    {
     "name": "stdout",
     "output_type": "stream",
     "text": [
      "Empty\n"
     ]
    }
   ],
   "source": [
    "print(Cq)"
   ]
  },
  {
   "cell_type": "markdown",
   "metadata": {},
   "source": [
    "# Doubly Linked List"
   ]
  },
  {
   "cell_type": "code",
   "execution_count": 257,
   "metadata": {},
   "outputs": [],
   "source": [
    "class _DoublyLLBase:\n",
    "    \n",
    "    class _Node:\n",
    "        __slots__ = '_element' , '_next' , '_prev'\n",
    "        \n",
    "        def __init__(self,element, prev , next) -> None:\n",
    "            self._element = element\n",
    "            self._prev = prev\n",
    "            self._next = next\n",
    "            \n",
    "    def __init__(self) :\n",
    "        self._header = self._Node(None,None,None)\n",
    "        self._trailer = self._Node(None,None,None)\n",
    "        self._header._next = self._trailer\n",
    "        self._trailer._prev = self._header\n",
    "        self._size = 0 \n",
    "        \n",
    "    def __len__(self):\n",
    "        return self._size\n",
    "    \n",
    "    def is_empty(self):\n",
    "        return self._size==0\n",
    "    \n",
    "    def _insert_between(self,e,pre,suc): # Adds element b/w two nodes and returns \n",
    "        newest = self._Node(e,pre,suc)\n",
    "        \n",
    "        pre._next= newest\n",
    "        suc._prev=newest\n",
    "        self._size+=1\n",
    "        return newest\n",
    "    \n",
    "    def _delete_node(self,node):\n",
    "        \n",
    "        pre=node._prev\n",
    "        suc=node._next\n",
    "        pre._next=suc\n",
    "        suc._prev = pre\n",
    "        self._size-=1\n",
    "        element = node._element\n",
    "        node._prev = node._next = node._element = None\n",
    "        return element"
   ]
  },
  {
   "cell_type": "markdown",
   "metadata": {},
   "source": [
    "#  Implementing a Deque with a Doubly Linked List"
   ]
  },
  {
   "cell_type": "code",
   "execution_count": 258,
   "metadata": {},
   "outputs": [],
   "source": [
    "class LinkedDeque(_DoublyLLBase):\n",
    "    \n",
    "    def first(self):\n",
    "        if self.is_empty():\n",
    "            return \"Empty\"\n",
    "        return self._header._next._element\n",
    "    \n",
    "    def last(self):\n",
    "        if self.is_empty():\n",
    "            return 'Empty'\n",
    "        return self._trailer._prev._element \n",
    "    \n",
    "    def insert_first(self,e):\n",
    "        \n",
    "        self._insert_between(e=e,pre=self._header,suc=self._header._next)\n",
    "        \n",
    "    def insert_last(self,e):\n",
    "        \n",
    "        self._insert_between(e=e,pre=self._trailer._prev,suc=self._trailer)\n",
    "        \n",
    "    def delete_first(self):\n",
    "        \n",
    "        if self.is_empty():\n",
    "            return \"empty\"\n",
    "        self._delete_node(node= self._header._next)\n",
    "        \n",
    "    def delete_last(self):\n",
    "        \n",
    "        if self.is_empty():\n",
    "            return \"Empty\"\n",
    "        \n",
    "        self._delete_node(node=self._trailer._prev)\n",
    "        \n",
    "    def __str__(self) -> str:\n",
    "        if self.is_empty():\n",
    "            return \"EMPTY\"\n",
    "        elements =[]\n",
    "        \n",
    "        current = self._header._next\n",
    "        \n",
    "        while current._next is not None:\n",
    "            elements.append(str(current._element))\n",
    "            current=current._next\n",
    "            \n",
    "        return \"Head⇌\"+ \"⇌\".join(elements) + \"⇌Tail\""
   ]
  },
  {
   "cell_type": "code",
   "execution_count": 259,
   "metadata": {},
   "outputs": [],
   "source": [
    "LD =LinkedDeque()\n",
    "LD.insert_first(4)\n",
    "LD.insert_last(412)\n",
    "LD.insert_first(12)\n",
    "LD.insert_last(98)\n",
    "LD.insert_first(10)\n",
    "LD.insert_last(12)\n",
    "\n"
   ]
  },
  {
   "cell_type": "code",
   "execution_count": 260,
   "metadata": {},
   "outputs": [],
   "source": [
    "LD1=LinkedDeque()\n",
    "LD.insert_first(4)\n"
   ]
  },
  {
   "cell_type": "code",
   "execution_count": 261,
   "metadata": {},
   "outputs": [],
   "source": [
    "LD1.insert_first(LD)"
   ]
  },
  {
   "cell_type": "code",
   "execution_count": 262,
   "metadata": {},
   "outputs": [
    {
     "name": "stdout",
     "output_type": "stream",
     "text": [
      "Head⇌Head⇌4⇌10⇌12⇌4⇌412⇌98⇌12⇌Tail⇌Tail\n"
     ]
    }
   ],
   "source": [
    "print(LD1)"
   ]
  },
  {
   "cell_type": "code",
   "execution_count": 263,
   "metadata": {},
   "outputs": [
    {
     "data": {
      "text/plain": [
       "False"
      ]
     },
     "execution_count": 263,
     "metadata": {},
     "output_type": "execute_result"
    }
   ],
   "source": [
    "LD.is_empty()"
   ]
  },
  {
   "cell_type": "code",
   "execution_count": 264,
   "metadata": {},
   "outputs": [
    {
     "name": "stdout",
     "output_type": "stream",
     "text": [
      "Head⇌4⇌10⇌12⇌4⇌412⇌98⇌12⇌Tail\n"
     ]
    }
   ],
   "source": [
    "print(LD)"
   ]
  },
  {
   "cell_type": "markdown",
   "metadata": {},
   "source": [
    "# The Positional List ADT\n",
    "\n",
    "Doubly Linked List Implementation"
   ]
  },
  {
   "cell_type": "code",
   "execution_count": 350,
   "metadata": {},
   "outputs": [],
   "source": [
    "class PositionList(_DoublyLLBase): # Introducing Position with nodes so as to reference directly \n",
    "    \n",
    "    class Position:\n",
    "         # stores location of a single element \n",
    "        def __init__(self,container,node):  #container act as a index here \n",
    "            \n",
    "            self._container=container\n",
    "            self._node = node\n",
    "            \n",
    "        def element(self):\n",
    "            return self._node._element\n",
    "        \n",
    "        def __eq__(self, other):\n",
    "            return type(other) is type(self) and other._node is self._node\n",
    "        \n",
    "        def __ne__(self, other):\n",
    "            return not (self==other)\n",
    "        ### All functionalities of Position class\n",
    "        \n",
    "    def _validate(self,p):\n",
    "        \n",
    "        if not isinstance(p,self.Position):\n",
    "            raise TypeError(\"Not a POSITION type\")\n",
    "        \n",
    "        if p._container is not self:\n",
    "            raise ValueError(\"Doesn't belong to this\")\n",
    "        \n",
    "        if p._node._next is None:\n",
    "            raise ValueError(\"No longer valid\")\n",
    "        \n",
    "        return p._node  # if all checked returns associated node it basically works like a=[1,2,3,4] and a[0] = 1.... got it?\n",
    "    \n",
    "    def _make_Position(self,node): # in array terms returns the index \n",
    "        if node is self._header or node is self._trailer:\n",
    "            return None\n",
    "        else:\n",
    "            return self.Position(self,node)\n",
    "        \n",
    "    def first(self):\n",
    "        return self._make_Position(self._header._next)\n",
    "    \n",
    "    def last(self):\n",
    "        return self._make_Position(self._trailer._prev)\n",
    "    \n",
    "    def before(self,p):\n",
    "        node = self._validate(p=p)\n",
    "        return self._make_Position(node=node._prev)\n",
    "    \n",
    "    def after(self,p):\n",
    "        node = self._validate(p)\n",
    "        return self._make_Position(node._next)\n",
    "    \n",
    "    def __iter__(self):\n",
    "        \n",
    "        cursor = self.first()\n",
    "        while cursor is not None:\n",
    "            yield cursor.element()\n",
    "            cursor = self.after(cursor)\n",
    "            \n",
    "    def _insert_between(self, e, pre, suc):\n",
    "        \n",
    "        node= super()._insert_between(e, pre, suc)\n",
    "        return self._make_Position(node)\n",
    "    \n",
    "    def add_first(self,e):\n",
    "        return self._insert_between(e,self._header,self._header._next)\n",
    "     \n",
    "    def add_last(self,e):\n",
    "        return self._insert_between(e,self._trailer._prev,self._trailer)\n",
    "    \n",
    "    def add_before(self,p,e):\n",
    "        \n",
    "        original = self._validate(p)\n",
    "        return self._insert_between(e,original._prev,original)\n",
    "    \n",
    "    def add_after(self,p,e):\n",
    "        original = self._validate(p)\n",
    "        return self._insert_between(e,original,original._next)\n",
    "    \n",
    "    def delete(self,p):\n",
    "        original = self._validate(p)  # original gets p.node if all works fine \n",
    "        return self._delete_node(original)  # returns the element at p or now original\n",
    "\n",
    "    def replace(self,p,e):\n",
    "        \n",
    "        original = self._validate(p)\n",
    "        \n",
    "        old_value = original._element \n",
    "        original._element = e\n",
    "        return old_value     \n",
    "    \n",
    "    def __str__(self) -> str:\n",
    "        li=[]\n",
    "        element = self._header._next\n",
    "        while element._next is not None:\n",
    "            li.append(str(element._element))\n",
    "            element = element._next\n",
    "        \n",
    "        return \"<->\".join(li)\n",
    "     \n",
    "    \n",
    "     \n",
    "\n",
    "            "
   ]
  },
  {
   "cell_type": "code",
   "execution_count": 351,
   "metadata": {},
   "outputs": [],
   "source": [
    "Pl=PositionList()"
   ]
  },
  {
   "cell_type": "code",
   "execution_count": 352,
   "metadata": {},
   "outputs": [
    {
     "data": {
      "text/plain": [
       "__main__.PositionList"
      ]
     },
     "execution_count": 352,
     "metadata": {},
     "output_type": "execute_result"
    }
   ],
   "source": [
    "type(Pl)"
   ]
  },
  {
   "cell_type": "code",
   "execution_count": 353,
   "metadata": {},
   "outputs": [
    {
     "name": "stdout",
     "output_type": "stream",
     "text": [
      "None\n"
     ]
    }
   ],
   "source": [
    "a=Pl.last()\n",
    "print(a)"
   ]
  },
  {
   "cell_type": "code",
   "execution_count": 354,
   "metadata": {},
   "outputs": [
    {
     "data": {
      "text/plain": [
       "<__main__.PositionList.Position at 0x209bc406150>"
      ]
     },
     "execution_count": 354,
     "metadata": {},
     "output_type": "execute_result"
    }
   ],
   "source": [
    "Pl.add_last(43)\n",
    "a=Pl.add_after(Pl.last(),4)\n",
    "Pl.add_after(a,4)"
   ]
  },
  {
   "cell_type": "code",
   "execution_count": 355,
   "metadata": {},
   "outputs": [
    {
     "data": {
      "text/plain": [
       "False"
      ]
     },
     "execution_count": 355,
     "metadata": {},
     "output_type": "execute_result"
    }
   ],
   "source": [
    "Pl.is_empty()"
   ]
  },
  {
   "cell_type": "code",
   "execution_count": 356,
   "metadata": {},
   "outputs": [
    {
     "name": "stdout",
     "output_type": "stream",
     "text": [
      "43<->4<->4\n"
     ]
    }
   ],
   "source": [
    "print(Pl)"
   ]
  },
  {
   "cell_type": "code",
   "execution_count": 357,
   "metadata": {},
   "outputs": [
    {
     "name": "stdout",
     "output_type": "stream",
     "text": [
      "43\n",
      "4\n",
      "4\n"
     ]
    }
   ],
   "source": [
    "for e in Pl:\n",
    "    print(e)"
   ]
  },
  {
   "cell_type": "code",
   "execution_count": 358,
   "metadata": {},
   "outputs": [
    {
     "data": {
      "text/plain": [
       "43"
      ]
     },
     "execution_count": 358,
     "metadata": {},
     "output_type": "execute_result"
    }
   ],
   "source": [
    "Pl.first().element()"
   ]
  },
  {
   "cell_type": "markdown",
   "metadata": {},
   "source": [
    "# Sorting a Positional List"
   ]
  },
  {
   "cell_type": "code",
   "execution_count": 320,
   "metadata": {},
   "outputs": [],
   "source": [
    "def insertion_sort(L:PositionList):\n",
    "    if len(L)>1:\n",
    "        marker = L.first()\n",
    "        while marker!=L.last():\n",
    "            pivot = L.after(marker)\n",
    "            value = pivot.element()\n",
    "            if value > marker.element():\n",
    "                marker = pivot\n",
    "            else:\n",
    "                walk = marker\n",
    "                while walk!= L.first()  and L.before(walk).element()>value:\n",
    "                    walk = L.before(walk)\n",
    "                \n",
    "                L.delete(pivot)\n",
    "                L.add_before(walk,value)\n",
    "    print (L)\n"
   ]
  },
  {
   "cell_type": "code",
   "execution_count": 321,
   "metadata": {},
   "outputs": [
    {
     "name": "stdout",
     "output_type": "stream",
     "text": [
      "4<->43\n"
     ]
    }
   ],
   "source": [
    "insertion_sort(Pl)"
   ]
  },
  {
   "cell_type": "markdown",
   "metadata": {},
   "source": [
    "# Favorites List"
   ]
  },
  {
   "cell_type": "code",
   "execution_count": 359,
   "metadata": {},
   "outputs": [],
   "source": [
    "class FavoritesList:\n",
    "    \n",
    "    class _Item:\n",
    "        __slots__ ='_value' , '_count'\n",
    "        def __init__(self,e):\n",
    "            self._value = e\n",
    "            self._count = 0\n",
    "            \n",
    "    def _find_position(self,e):\n",
    "        \n",
    "        walk = self._data.first()\n",
    "        while walk is not None and walk.elemrnt()._value !=e:\n",
    "            walk = self._data.after(walk)  # increment as postion +1\n",
    "        return walk\n",
    "    \n",
    "    def _move_up(self,p):\n",
    "        \n",
    "        if p!= self._data.first():\n",
    "            cnt = p.element()._count\n",
    "            walk = self._data.before(p)\n",
    "            \n",
    "            if cnt>walk.element()._count:\n",
    "                while (walk!=self._data.first() and cnt>self._data.before(walk).element()._count):\n",
    "                    walk = self._data.before(walk)\n",
    "                \n",
    "                self._data.add_before(walk,self._data.delete(p))  # in notes entire working \n",
    "                \n",
    "    \n",
    "    def __init__(self):\n",
    "        \n",
    "        self._data = PositionList()   # instantization of favorite list as object of Positonal List \n",
    "        \n",
    "    def __len__(self):\n",
    "        return len(self._data)\n",
    "\n",
    "    def is_empty(self):\n",
    "        return len(self._data) == 0\n",
    "    \n",
    "    def access(self,e):\n",
    "        \n",
    "        p = self._find_position(e)\n",
    "        \n",
    "        if p is None:\n",
    "            p = self._data.add_last(self._Item(e))\n",
    "        p.element()._count +=1\n",
    "        self._move_up(p)\n",
    "           \n",
    "    def remove(self,e):\n",
    "        \n",
    "        p = self._find_position(e)\n",
    "        if p is not None:\n",
    "            self._data.delete(p)\n",
    "            \n",
    "    def top(self,k):\n",
    "        \n",
    "        if not 1<=k<= len(self):\n",
    "            raise ValueError('Illegal value for K')\n",
    "        \n",
    "        walk = self._data.first()\n",
    "        \n",
    "        for j in range(k):\n",
    "            item = walk.element()\n",
    "            yield item._value \n",
    "            walk = self._data.after(walk)\n",
    "    "
   ]
  },
  {
   "cell_type": "markdown",
   "metadata": {},
   "source": [
    "## Using a List with the Move-to-Front Heuristic"
   ]
  },
  {
   "cell_type": "code",
   "execution_count": 361,
   "metadata": {},
   "outputs": [],
   "source": [
    "class FavoritesListMTF(FavoritesList):\n",
    "    \n",
    "    def _move_up(self, p):\n",
    "        \n",
    "        if p!=self._data.first():\n",
    "            self._data.add_first(self._data.delete(p))\n",
    "        \n",
    "    def top(self, k):\n",
    "        if not 1<=k<=len(self):\n",
    "            raise ValueError('Illegal')\n",
    "        \n",
    "        temp=PositionList()\n",
    "\n",
    "        for item in self._data:\n",
    "            temp.add_last(item)   \n",
    "            \n",
    "        for j in range(k):\n",
    "            \n",
    "            highPos = temp.first()\n",
    "            \n",
    "            walk = temp.after(highPos)\n",
    "            while walk is not None:\n",
    "                if walk.element()._count > highPos.element()._count:\n",
    "                    highPos = walk\n",
    "                walk = temp.after(walk)\n",
    "                \n",
    "            yield highPos.element()._value\n",
    "            temp.delete(highPos)\n",
    "                 \n",
    "    "
   ]
  },
  {
   "cell_type": "code",
   "execution_count": null,
   "metadata": {},
   "outputs": [],
   "source": []
  }
 ],
 "metadata": {
  "kernelspec": {
   "display_name": "Python 3",
   "language": "python",
   "name": "python3"
  },
  "language_info": {
   "codemirror_mode": {
    "name": "ipython",
    "version": 3
   },
   "file_extension": ".py",
   "mimetype": "text/x-python",
   "name": "python",
   "nbconvert_exporter": "python",
   "pygments_lexer": "ipython3",
   "version": "3.12.3"
  }
 },
 "nbformat": 4,
 "nbformat_minor": 2
}
