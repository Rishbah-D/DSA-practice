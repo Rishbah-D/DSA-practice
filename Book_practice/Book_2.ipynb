{
 "cells": [
  {
   "cell_type": "markdown",
   "metadata": {},
   "source": [
    "# Object oriented Programming\n"
   ]
  },
  {
   "cell_type": "markdown",
   "metadata": {},
   "source": [
    "# Q1\n",
    "\n",
    "Give three examples of life-critical software applications\n"
   ]
  },
  {
   "cell_type": "markdown",
   "metadata": {},
   "source": [
    "# Q2\n",
    "\n",
    "Give an example of a software application in which adaptability can mean\n",
    "the difference between a prolonged lifetime of sales and bankruptcy.\n"
   ]
  },
  {
   "cell_type": "markdown",
   "metadata": {},
   "source": [
    "# Q3\n",
    "\n",
    "Describe a component from a text-editor GUI and the methods that it en\u0002capsula\n"
   ]
  },
  {
   "cell_type": "markdown",
   "metadata": {},
   "source": [
    "# Q4\n",
    "\n",
    "Write a Python class, Flower, that has three instance variables of type str,\n",
    "int, and float, that respectively represent the name of the flower, its num\u0002ber of petals, and its price. Your class must include a constructor method\n",
    "that initializes each variable to an appropriate value, and your class should\n",
    "include methods for setting the value of each type, and retrieving the value\n",
    "of each type.\n"
   ]
  },
  {
   "cell_type": "code",
   "execution_count": null,
   "metadata": {},
   "outputs": [],
   "source": [
    "# Class flower\n",
    "# 3 instances variable (str,int,float) -> name , number of petals, price\n",
    "# a constructor"
   ]
  },
  {
   "cell_type": "code",
   "execution_count": 21,
   "metadata": {},
   "outputs": [],
   "source": [
    "class Flower:\n",
    "    def __init__(self, name: str, petals: int, price: float):\n",
    "        self._name = name\n",
    "        self._petals = petals\n",
    "        self._price = price\n",
    "\n",
    "    def get_name(self):\n",
    "        return self._name\n",
    "\n",
    "    def get_petals(self):\n",
    "        return self._petals\n",
    "\n",
    "    def get_price(self):\n",
    "        return self._price\n",
    "\n",
    "    def set_name(self, name):\n",
    "        self._name = name\n",
    "\n",
    "    def set_price(self, price):\n",
    "        self._price = price\n",
    "\n",
    "    def set_petals(self, petals):\n",
    "        self._petals = petals"
   ]
  },
  {
   "cell_type": "markdown",
   "metadata": {},
   "source": [
    "# Q9\n",
    "\n",
    "Implement the sub method for the Vector class of Section 2.3.3, so\n",
    "that the expression u−v returns a new vector instance representing the\n",
    "difference between two vectors\n"
   ]
  },
  {
   "cell_type": "code",
   "execution_count": 93,
   "metadata": {},
   "outputs": [],
   "source": [
    "class Vector:\n",
    "    def __init__(self, size):\n",
    "        self.co_ords = [0] * size\n",
    "\n",
    "    def __setitem__(self, j, item: int):\n",
    "        self.co_ords[j] = item\n",
    "\n",
    "    def __getitem__(self, j):\n",
    "        return self.co_ords[j]\n",
    "\n",
    "    def __len__(self):\n",
    "        return len(self.co_ords)\n",
    "\n",
    "    def __sub__(self, other):\n",
    "        if len(self) == len(other):\n",
    "            result = Vector(len(self))\n",
    "            for j in range(len(self)):\n",
    "                result[j] = self[j] - other[j]\n",
    "            return result\n",
    "        raise ValueError(\"dimension mismatch\")\n",
    "\n",
    "    def __str__(self) -> str:\n",
    "        return \"<\" + str(self.co_ords)[1:-1] + \">\"\n",
    "\n",
    "    def __rsub__(self, other):\n",
    "        return self.__sub__(other)"
   ]
  },
  {
   "cell_type": "code",
   "execution_count": 94,
   "metadata": {},
   "outputs": [],
   "source": [
    "import random"
   ]
  },
  {
   "cell_type": "code",
   "execution_count": 95,
   "metadata": {},
   "outputs": [
    {
     "name": "stdout",
     "output_type": "stream",
     "text": [
      "<21, 16, 26> <5, 5, 13>\n"
     ]
    }
   ],
   "source": [
    "v1 = Vector(3)\n",
    "for i in range(len(v1)):\n",
    "    v1[i] = random.randint(15, 30)\n",
    "\n",
    "v2 = Vector(3)\n",
    "for i in range(len(v2)):\n",
    "    v2[i] = random.randint(0, 15)\n",
    "\n",
    "print(v1, v2)"
   ]
  },
  {
   "cell_type": "markdown",
   "metadata": {},
   "source": [
    "# Q 10\n",
    "\n",
    "Implement the neg method for the Vector class of Section 2.3.3, so\n",
    "that the expression −v returns a new vector instance whose coordinates\n",
    "are all the negated values of the respective coordinates of v\n"
   ]
  },
  {
   "cell_type": "code",
   "execution_count": 110,
   "metadata": {},
   "outputs": [],
   "source": [
    "class Vector:\n",
    "    def __init__(self, size):\n",
    "        self.co_ords = [0] * size\n",
    "\n",
    "    def __setitem__(self, j, item: int):\n",
    "        self.co_ords[j] = item\n",
    "\n",
    "    def __getitem__(self, j):\n",
    "        return self.co_ords[j]\n",
    "\n",
    "    def __len__(self):\n",
    "        return len(self.co_ords)\n",
    "\n",
    "    def __str__(self) -> str:\n",
    "        return \"<\" + str(self.co_ords)[1:-1] + \">\"\n",
    "\n",
    "    def __neg__(self):\n",
    "        result = Vector(len(self))\n",
    "        for i in range(len(self)):\n",
    "            result[i] = 0 - self[i]\n",
    "        return result\n",
    "\n",
    "    def __mul__(self, other):\n",
    "        result = Vector(len(self))\n",
    "        if type(other) == int:\n",
    "            for i in range(len(self)):\n",
    "                result[i] = other * self[i]\n",
    "            return result\n",
    "        raise TypeError(\"Bleh\")\n",
    "\n",
    "    def __rmul__(self, other):\n",
    "        return self.__mul__(other)"
   ]
  },
  {
   "cell_type": "code",
   "execution_count": 111,
   "metadata": {},
   "outputs": [],
   "source": [
    "v1 = Vector(3)\n",
    "for i in range(len(v1)):\n",
    "    v1[i] = random.randint(-30, 30)\n",
    "\n",
    "v2 = 3 * v1"
   ]
  },
  {
   "cell_type": "code",
   "execution_count": 112,
   "metadata": {},
   "outputs": [
    {
     "name": "stdout",
     "output_type": "stream",
     "text": [
      "<3, 4, -25> <9, 12, -75>\n"
     ]
    }
   ],
   "source": [
    "print(v1, v2)"
   ]
  },
  {
   "cell_type": "markdown",
   "metadata": {},
   "source": [
    "# Q11\n",
    "\n",
    "In Section 2.3.3, we note that our Vector class supports a syntax such as\n",
    "v = u + [5, 3, 10, −2, 1], in which the sum of a vector and list returns\n",
    "a new vector. However, the syntax v = [5, 3, 10, −2, 1] + u is illegal.\n",
    "Explain how the Vector class definition can be revised so that this syntax\n",
    "generates a new vector.\n"
   ]
  },
  {
   "cell_type": "code",
   "execution_count": 101,
   "metadata": {},
   "outputs": [],
   "source": [
    "# use of __rsub__ , __radd__ as in above fragement"
   ]
  },
  {
   "cell_type": "markdown",
   "metadata": {},
   "source": [
    "# Q12 and Q13\n",
    "\n",
    "Implement the mul method for the Vector class of Section 2.3.3, so\n",
    "that the expression v 3 returns a new vector with coordinates that are 3\n",
    "times the respective coordinates of v.\n"
   ]
  },
  {
   "cell_type": "code",
   "execution_count": null,
   "metadata": {},
   "outputs": [],
   "source": [
    "# in block Q10"
   ]
  },
  {
   "cell_type": "markdown",
   "metadata": {},
   "source": [
    "# Q14\n",
    "\n",
    "Implement the mul method for the Vector class of Section 2.3.3, so\n",
    "that the expression u v returns a scalar that represents the dot product of\n",
    "the vectors, that is, ∑d\n",
    "i=1 ui · vi\n"
   ]
  },
  {
   "cell_type": "code",
   "execution_count": 113,
   "metadata": {},
   "outputs": [],
   "source": [
    "class Vector:\n",
    "    def __init__(self, size):\n",
    "        self.co_ords = [0] * size\n",
    "\n",
    "    def __setitem__(self, j, item: int):\n",
    "        self.co_ords[j] = item\n",
    "\n",
    "    def __getitem__(self, j):\n",
    "        return self.co_ords[j]\n",
    "\n",
    "    def __len__(self):\n",
    "        return len(self.co_ords)\n",
    "\n",
    "    def __str__(self) -> str:\n",
    "        return \"<\" + str(self.co_ords)[1:-1] + \">\"\n",
    "\n",
    "    def __neg__(self):\n",
    "        result = Vector(len(self))\n",
    "        for i in range(len(self)):\n",
    "            result[i] = 0 - self[i]\n",
    "        return result\n",
    "\n",
    "    def __mul__(self, other):\n",
    "        result = Vector(len(self))\n",
    "        if type(other) == int:\n",
    "            for i in range(len(self)):\n",
    "                result[i] = other * self[i]\n",
    "            return result\n",
    "        elif type(other) == type(self) and len(other) == len(self):\n",
    "            sum = 0\n",
    "            for i in range(len(self)):\n",
    "                sum += self[i] * other[i]\n",
    "            return sum\n",
    "        raise TypeError(\"Mismatch\")\n",
    "\n",
    "    def __rmul__(self, other):\n",
    "        return self.__mul__(other)"
   ]
  },
  {
   "cell_type": "code",
   "execution_count": 117,
   "metadata": {},
   "outputs": [
    {
     "name": "stdout",
     "output_type": "stream",
     "text": [
      "<30, 27, 28> <2, 7, 13>\n",
      "613 <class 'int'>\n"
     ]
    }
   ],
   "source": [
    "v1 = Vector(3)\n",
    "v2 = Vector(3)\n",
    "for i in range(len(v1)):\n",
    "    v1[i], v2[i] = random.randint(15, 30), random.randint(0, 15)\n",
    "print(v1, v2)\n",
    "\n",
    "u = v1 * v2\n",
    "print(u, type(u))"
   ]
  },
  {
   "cell_type": "markdown",
   "metadata": {},
   "source": [
    "# Q15\n",
    "\n",
    "The Vector class of Section 2.3.3 provides a constructor that takes an integer d, and produces a d-dimensional vector with all coordinates equal to 0. Another convenient form for creating a new vector would be to send the\n",
    "constructor a parameter that is some iterable type representing a sequence\n",
    "of numbers, and to create a vector with dimension equal to the length of\n",
    "that sequence and coordinates equal to the sequence values. For example,\n",
    "Vector([4, 7, 5]) would produce a three-dimensional vector with coordinates <4, 7, 5>. Modify the constructor so that either of these forms is\n",
    "acceptable; that is, if a single integer is sent, it produces a vector of that\n",
    "dimension with all zeros, but if a sequence of numbers is provided, it produces a vector with coordinates based on that sequence.\n"
   ]
  },
  {
   "cell_type": "code",
   "execution_count": 121,
   "metadata": {},
   "outputs": [],
   "source": [
    "class Vector:\n",
    "    def __init__(self, T):\n",
    "        try:\n",
    "            if int(T):\n",
    "                self.co_ords = [0] * T\n",
    "        except:\n",
    "            if list(T):\n",
    "                self.co_ords = T\n",
    "\n",
    "    def __setitem__(self, j, item: int):\n",
    "        self.co_ords[j] = item\n",
    "\n",
    "    def __getitem__(self, j):\n",
    "        return self.co_ords[j]\n",
    "\n",
    "    def __len__(self):\n",
    "        return len(self.co_ords)\n",
    "\n",
    "    def __str__(self) -> str:\n",
    "        return \"<\" + str(self.co_ords)[1:-1] + \">\"\n",
    "\n",
    "    def __neg__(self):\n",
    "        result = Vector(len(self))\n",
    "        for i in range(len(self)):\n",
    "            result[i] = 0 - self[i]\n",
    "        return result\n",
    "\n",
    "    def __mul__(self, other):\n",
    "        result = Vector(len(self))\n",
    "        if type(other) == int:\n",
    "            for i in range(len(self)):\n",
    "                result[i] = other * self[i]\n",
    "            return result\n",
    "        elif type(other) == type(self) and len(other) == len(self):\n",
    "            sum = 0\n",
    "            for i in range(len(self)):\n",
    "                sum += self[i] * other[i]\n",
    "            return sum\n",
    "        raise TypeError(\"Mismatch\")\n",
    "\n",
    "    def __rmul__(self, other):\n",
    "        return self.__mul__(other)"
   ]
  },
  {
   "cell_type": "code",
   "execution_count": 123,
   "metadata": {},
   "outputs": [
    {
     "name": "stdout",
     "output_type": "stream",
     "text": [
      "<3, 2, 4>\n"
     ]
    }
   ],
   "source": [
    "v1 = Vector([3, 2, 4])\n",
    "print(v1)"
   ]
  },
  {
   "cell_type": "markdown",
   "metadata": {},
   "source": [
    "# Q 16\n",
    "\n",
    "Our Range class, from Section 2.3.5, relies on the formula\n",
    "max(0, (stop − start + step − 1) // step)\n",
    "to compute the number of elements in the range. It is not immediately ev\u0002ident why this formula provides the correct calculation, even if assuming\n",
    "a positive step size. Justify this formula, in your own words\n"
   ]
  },
  {
   "cell_type": "code",
   "execution_count": 124,
   "metadata": {},
   "outputs": [],
   "source": [
    "# yapping"
   ]
  },
  {
   "cell_type": "markdown",
   "metadata": {},
   "source": [
    "# Q18\n",
    "\n",
    "Give a short fragment of Python code that uses the progression classes\n",
    "from Section 2.4.2 to find the 8th value of a Fibonacci progression that\n",
    "starts with 2 and 2 as its first two values.\n"
   ]
  },
  {
   "cell_type": "code",
   "execution_count": 1,
   "metadata": {},
   "outputs": [],
   "source": [
    "class Progression:\n",
    "    def __init__(self, start=0):\n",
    "        self._current = start\n",
    "\n",
    "    def _advance(self):\n",
    "        self._current += 1\n",
    "\n",
    "    def __next__(self):\n",
    "        if self._current is None:\n",
    "            raise StopIteration()\n",
    "        else:\n",
    "            answer = self._current\n",
    "            self._advance()\n",
    "            return answer\n",
    "\n",
    "    def __iter__(self):\n",
    "        return self\n",
    "\n",
    "    def print_progression(self, n):\n",
    "        print(\"\".join(str(next(self)) for j in range(n)))"
   ]
  },
  {
   "cell_type": "code",
   "execution_count": 2,
   "metadata": {},
   "outputs": [],
   "source": [
    "class Fibonnaci(Progression):\n",
    "    def __init__(self, first=0, second=0):\n",
    "        super().__init__(first)\n",
    "        self._prev = second - first\n",
    "\n",
    "    def _advance(self):\n",
    "        self._prev, self._current = self._current, self._prev + self._current"
   ]
  },
  {
   "cell_type": "code",
   "execution_count": 5,
   "metadata": {},
   "outputs": [],
   "source": [
    "class Arthimetic(Progression):\n",
    "    def __init__(self, inc=1, start=0):\n",
    "        super().__init__(start)\n",
    "        self._inc = inc\n",
    "\n",
    "    def _advance(self):\n",
    "        self._current += self._inc"
   ]
  },
  {
   "cell_type": "code",
   "execution_count": 4,
   "metadata": {},
   "outputs": [
    {
     "name": "stdout",
     "output_type": "stream",
     "text": [
      "42\n"
     ]
    }
   ],
   "source": [
    "c = 0\n",
    "for i in Fibonnaci(2, 2):\n",
    "    c += 1\n",
    "    if c == 8:\n",
    "        break\n",
    "\n",
    "print(i)"
   ]
  },
  {
   "cell_type": "markdown",
   "metadata": {},
   "source": [
    "# Q 19\n",
    "\n",
    "When using the ArithmeticProgression class of Section 2.4.2 with an increment of 128 and a start of 0, how many calls to next can we make\n",
    "before we reach an integer of 263 or larger?\n"
   ]
  },
  {
   "cell_type": "code",
   "execution_count": 9,
   "metadata": {},
   "outputs": [
    {
     "name": "stdout",
     "output_type": "stream",
     "text": [
      "0\n",
      "128\n",
      "256\n",
      "384\n",
      "512\n",
      "640\n",
      "768\n",
      "896\n",
      "1024\n",
      "1152\n"
     ]
    }
   ],
   "source": [
    "c = 0\n",
    "for i in Arthimetic(inc=128, start=0):\n",
    "    c += 1\n",
    "    print(i)\n",
    "    if c > 9:\n",
    "        break"
   ]
  },
  {
   "cell_type": "code",
   "execution_count": 14,
   "metadata": {},
   "outputs": [
    {
     "data": {
      "text/plain": [
       "72057594037927937"
      ]
     },
     "execution_count": 14,
     "metadata": {},
     "output_type": "execute_result"
    }
   ],
   "source": [
    "(2**63 - 0) // 128 + 1"
   ]
  },
  {
   "cell_type": "markdown",
   "metadata": {},
   "source": [
    "# Q20 and 21\n"
   ]
  },
  {
   "cell_type": "markdown",
   "metadata": {},
   "source": [
    "`GPT`\n"
   ]
  },
  {
   "cell_type": "markdown",
   "metadata": {},
   "source": [
    "# Q26\n",
    "\n",
    "The SequenceIterator class of Section 2.3.4 provides what is known as a\n",
    "forward iterator. Implement a class named ReversedSequenceIterator that\n",
    "serves as a reverse iterator for any Python sequence type. The first call to\n",
    "next should return the last element of the sequence, the second call to next\n",
    "should return the second-to-last element, and so forth\n"
   ]
  },
  {
   "cell_type": "code",
   "execution_count": 37,
   "metadata": {},
   "outputs": [],
   "source": [
    "class reversed_SEQ:\n",
    "    def __init__(self, seq) -> None:\n",
    "        self._seq = seq\n",
    "        self._k = 0\n",
    "\n",
    "    def __next__(self):\n",
    "        self._k -= 1\n",
    "        if self._k >= -(len(self._seq)):\n",
    "            return self._seq[self._k]\n",
    "        else:\n",
    "            raise StopIteration()\n",
    "\n",
    "    def __iter__(self):\n",
    "        return self"
   ]
  },
  {
   "cell_type": "code",
   "execution_count": 38,
   "metadata": {},
   "outputs": [],
   "source": [
    "v1 = reversed_SEQ([1, 2, 3])"
   ]
  },
  {
   "cell_type": "code",
   "execution_count": 42,
   "metadata": {},
   "outputs": [
    {
     "ename": "StopIteration",
     "evalue": "",
     "output_type": "error",
     "traceback": [
      "\u001b[1;31m---------------------------------------------------------------------------\u001b[0m",
      "\u001b[1;31mStopIteration\u001b[0m                             Traceback (most recent call last)",
      "Cell \u001b[1;32mIn[42], line 1\u001b[0m\n\u001b[1;32m----> 1\u001b[0m \u001b[38;5;28;43mnext\u001b[39;49m\u001b[43m(\u001b[49m\u001b[43mv1\u001b[49m\u001b[43m)\u001b[49m\n",
      "Cell \u001b[1;32mIn[37], line 11\u001b[0m, in \u001b[0;36mreversed_SEQ.__next__\u001b[1;34m(self)\u001b[0m\n\u001b[0;32m      9\u001b[0m     \u001b[38;5;28;01mreturn\u001b[39;00m(\u001b[38;5;28mself\u001b[39m\u001b[38;5;241m.\u001b[39m_seq[\u001b[38;5;28mself\u001b[39m\u001b[38;5;241m.\u001b[39m_k])\n\u001b[0;32m     10\u001b[0m \u001b[38;5;28;01melse\u001b[39;00m :\n\u001b[1;32m---> 11\u001b[0m     \u001b[38;5;28;01mraise\u001b[39;00m \u001b[38;5;167;01mStopIteration\u001b[39;00m()\n",
      "\u001b[1;31mStopIteration\u001b[0m: "
     ]
    }
   ],
   "source": [
    "next(v1)"
   ]
  },
  {
   "cell_type": "markdown",
   "metadata": {},
   "source": [
    "# Q27\n",
    "\n",
    "In Section 2.3.5, we note that our version of the Range class has im\u0002plicit support for iteration, due to its explicit support of both len\n",
    "and getitem . The class also receives implicit support of the Boolean\n",
    "test, “k in r” for Range r. This test is evaluated based on a forward itera\u0002tion through the range, as evidenced by the relative quickness of the test\n",
    "2 in Range(10000000) versus 9999999 in Range(10000000). Provide a\n",
    "more efficient implementation of the contains method to determine\n",
    "whether a particular value lies within a given range. The running time of\n",
    "your method should be independent of the length of the range\n"
   ]
  },
  {
   "cell_type": "code",
   "execution_count": 43,
   "metadata": {},
   "outputs": [],
   "source": [
    "# range just works like a progression anyways\n",
    "class Range:\n",
    "    def __init__(self, start, stop=None, step=1):\n",
    "        if step == 0:\n",
    "            raise ValueError(\"can't be zeo\")\n",
    "        if stop is None:\n",
    "            start = 0\n",
    "            stop = start\n",
    "        self._length = max(0, (stop - start + step - 1) // step)\n",
    "\n",
    "        self._start = start\n",
    "        self._stop = stop\n",
    "        self._step = step\n",
    "\n",
    "    def __len__(self):\n",
    "        return self._length\n",
    "\n",
    "    def __getitem__(self, k):  # return value at an index\n",
    "        if k < 0:\n",
    "            k += len(self)\n",
    "\n",
    "        if not 0 <= k < self._length:\n",
    "            raise IndexError()\n",
    "\n",
    "        return self._start + k * self._step\n",
    "\n",
    "    def __contains__(self, value):\n",
    "        if value > self._stop or value < self._start:\n",
    "            raise IndexError(\"Out of range\")\n",
    "        else:\n",
    "            if (value - self._start) % self._step == 0:\n",
    "                return True\n",
    "            return False"
   ]
  },
  {
   "cell_type": "markdown",
   "metadata": {},
   "source": [
    "# Q28\n",
    "\n",
    "The PredatoryCreditCard class of Section 2.4.1 provides a process month\n",
    "method that models the completion of a monthly cycle. Modify the class\n",
    "so that once a customer has made ten calls to charge in the current month,\n",
    "each additional call to that function results in an additional $1 surcharge\n"
   ]
  },
  {
   "cell_type": "code",
   "execution_count": null,
   "metadata": {},
   "outputs": [],
   "source": []
  },
  {
   "cell_type": "code",
   "execution_count": 1,
   "metadata": {},
   "outputs": [
    {
     "name": "stdout",
     "output_type": "stream",
     "text": [
      "1\n",
      "7\n",
      "31\n",
      "127\n",
      "511\n",
      "2047\n",
      "8191\n",
      "32767\n",
      "131071\n",
      "524287\n",
      "2097151\n",
      "8388607\n",
      "33554431\n",
      "134217727\n",
      "536870911\n"
     ]
    }
   ],
   "source": [
    "for i in range(1, 16):\n",
    "    prime = 2 ** ((2 * i) - 1) - 1\n",
    "    print(prime)"
   ]
  },
  {
   "cell_type": "code",
   "execution_count": null,
   "metadata": {},
   "outputs": [],
   "source": []
  }
 ],
 "metadata": {
  "kernelspec": {
   "display_name": "Python 3",
   "language": "python",
   "name": "python3"
  },
  "language_info": {
   "codemirror_mode": {
    "name": "ipython",
    "version": 3
   },
   "file_extension": ".py",
   "mimetype": "text/x-python",
   "name": "python",
   "nbconvert_exporter": "python",
   "pygments_lexer": "ipython3",
   "version": "3.12.3"
  }
 },
 "nbformat": 4,
 "nbformat_minor": 2
}
