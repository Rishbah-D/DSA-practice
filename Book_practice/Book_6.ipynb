{
 "cells": [
  {
   "cell_type": "code",
   "execution_count": 3,
   "metadata": {},
   "outputs": [],
   "source": [
    "class Empty(Exception):\n",
    "    \"\"\"Error attempting to access an element from an empty container\"\"\"\n",
    "\n",
    "    pass\n",
    "\n",
    "\n",
    "class ArrayStack:\n",
    "    \"\"\"LIFO Stack implementation using Python's List class as an underlying storage\"\"\"\n",
    "\n",
    "    def __init__(self):\n",
    "        self._data = []\n",
    "\n",
    "    def __len__(self):\n",
    "        return len(self._data)\n",
    "\n",
    "    def is_empty(self):\n",
    "        return len(self._data) == 0\n",
    "\n",
    "    def push(self, val):\n",
    "        self._data.append(val)\n",
    "\n",
    "    def top(self):\n",
    "        if self.is_empty():\n",
    "            raise Empty(\"Stack is empty.\")\n",
    "        return self._data[-1]\n",
    "\n",
    "    def pop(self):\n",
    "        if self.is_empty():\n",
    "            raise Empty(\"Stack is empty.\")\n",
    "        return self._data.pop()\n",
    "\n",
    "    def __str__(self) -> str:\n",
    "        els = []\n",
    "        for i in range(len(self._data)):\n",
    "            els.append(str(self._data[i]))\n",
    "        return \"_\".join(els)\n",
    "\n",
    "    def transfer(self, other):\n",
    "        if type(self) != type(other):\n",
    "            raise TypeError\n",
    "        for i in range(len(self)):\n",
    "            other.push(self.pop())\n",
    "\n",
    "    def recur_pop(self):\n",
    "        if self.is_empty():\n",
    "            return \"Already Empty\"\n",
    "        self.pop()\n",
    "        return self.recur_pop(self)"
   ]
  },
  {
   "cell_type": "code",
   "execution_count": 4,
   "metadata": {},
   "outputs": [],
   "source": [
    "def reverse_file(filename):\n",
    "    s = ArrayStack()\n",
    "\n",
    "    original = open(filename)\n",
    "    for line in original:\n",
    "        s.push(line.rstrip(\"\\n\"))\n",
    "    original.close()\n",
    "\n",
    "    output = open(filename, \"w\")\n",
    "    while not s.is_empty():\n",
    "        output.write(s.pop + \"\\n\")\n",
    "    output.close()"
   ]
  },
  {
   "cell_type": "code",
   "execution_count": 5,
   "metadata": {},
   "outputs": [],
   "source": [
    "def is_matched(expr):\n",
    "    lefty = \"({[\"\n",
    "    righty = \")}]\"\n",
    "    S = ArrayStack()\n",
    "    for c in expr:\n",
    "        if c in lefty:\n",
    "            S.push(c)\n",
    "        elif c in righty:\n",
    "            if S.is_empty():\n",
    "                return False\n",
    "            if lefty.index(S.pop()) != righty.index(c):\n",
    "                return False\n",
    "    return S.is_empty()"
   ]
  },
  {
   "cell_type": "code",
   "execution_count": 6,
   "metadata": {},
   "outputs": [
    {
     "name": "stdout",
     "output_type": "stream",
     "text": [
      "body\n",
      "center\n",
      "h1\n",
      "/h1\n",
      "/center\n",
      "p\n",
      "/p\n",
      "ol\n",
      "li\n",
      "/li\n",
      "li\n",
      "/li\n",
      "li\n",
      "/li\n",
      "/ol\n",
      "/body\n",
      "True\n"
     ]
    }
   ],
   "source": [
    "def is_matched_html(raw):\n",
    "    S = ArrayStack()\n",
    "    j = raw.find(\"<\")\n",
    "    while j > -1:\n",
    "        k = raw.find(\">\", j + 1)\n",
    "        if k == -1:\n",
    "            return False\n",
    "        tag = raw[j + 1 : k]\n",
    "        print(tag)\n",
    "        if not tag.startswith(\"/\"):\n",
    "            S.push(tag)\n",
    "        else:\n",
    "            if S.is_empty():\n",
    "                return False\n",
    "            elif S.pop() != tag[1:]:\n",
    "                return False\n",
    "        j = raw.find(\"<\", k + 1)\n",
    "    return S.is_empty()\n",
    "\n",
    "\n",
    "if __name__ == \"__main__\":\n",
    "    html = \"<body><center><h1> The Little Boat </h1></center><p> The storm tossed the little boat like a cheap sneaker in an old washing machine.</p><ol><li> Will the salesman die? </li><li> What color is the boat? </li><li> And what about Naomi? </li></ol></body>\"\n",
    "    print(is_matched_html(html))"
   ]
  },
  {
   "cell_type": "markdown",
   "metadata": {},
   "source": [
    "# Queues\n"
   ]
  },
  {
   "cell_type": "code",
   "execution_count": 7,
   "metadata": {},
   "outputs": [],
   "source": [
    "class ArrayQueue:\n",
    "    DEFAULT_CAPACITY = 10\n",
    "\n",
    "    def __init__(self):\n",
    "        self._data = [None] * ArrayQueue.DEFAULT_CAPACITY\n",
    "        self._size = 0\n",
    "        self._front = -1\n",
    "\n",
    "    def __len__(self):\n",
    "        return self._size\n",
    "\n",
    "    def __str__(self):\n",
    "        text_list = [\"[\"]\n",
    "        if self._size > 0:\n",
    "            for i in range(self._size):\n",
    "                text_list.append(str(self._data[(self._front + i) % len(self._data)]))\n",
    "                text_list.append(\", \")\n",
    "            text_list.pop()\n",
    "        text_list.append(\"]\")\n",
    "        return \"\".join(text_list)\n",
    "\n",
    "    def is_empty(self):\n",
    "        return self._size == 0\n",
    "\n",
    "    def first(self):\n",
    "        if self.is_empty():\n",
    "            raise Empty\n",
    "        return self._data[self._front]\n",
    "\n",
    "    def dequeue(self):\n",
    "        if self.is_empty():\n",
    "            raise Empty\n",
    "        if self._size < len(self._data) // 4:\n",
    "            self._resize(len(self._data) // 2)\n",
    "        result = self._data[self._front]\n",
    "        self._data[self._front] = None\n",
    "        self._size -= 1\n",
    "        self._front += 1\n",
    "        return result\n",
    "\n",
    "    def enqueue(self, val):\n",
    "        if self._size == len(self._data):\n",
    "            self._resize(2 * len(self._data))\n",
    "        self._data[(self._front + self._size) % len(self._data)] = val\n",
    "        self._size += 1\n",
    "\n",
    "    def _resize(self, cap):\n",
    "        temp = [None] * cap\n",
    "        for i in range(self._size):\n",
    "            temp[i] = self._data[(self._front + i) % len(self._data)]\n",
    "        self._data = temp\n",
    "        self._front = 0"
   ]
  },
  {
   "cell_type": "markdown",
   "metadata": {},
   "source": [
    "# D-E queues\n"
   ]
  },
  {
   "cell_type": "code",
   "execution_count": 8,
   "metadata": {},
   "outputs": [],
   "source": [
    "class ArrayDeque:\n",
    "    DEFAULT_CAPACITY = 10\n",
    "\n",
    "    def __init__(self):\n",
    "        self._data = [None] * ArrayDeque.DEFAULT_CAPACITY\n",
    "        self._size = 0\n",
    "        self._front = -1\n",
    "\n",
    "    def __len__(self):\n",
    "        return self._size\n",
    "\n",
    "    def __str__(self):\n",
    "        text_list = [\"[\"]\n",
    "        if self._size > 0:\n",
    "            for i in range(self._size):\n",
    "                text_list.append(str(self._data[(self._front + i) % len(self._data)]))\n",
    "                text_list.append(\", \")\n",
    "            text_list.pop()\n",
    "        text_list.append(\"]\")\n",
    "        return \"\".join(text_list)\n",
    "\n",
    "    def is_empty(self):\n",
    "        return self._size == 0\n",
    "\n",
    "    def first(self):\n",
    "        if self.is_empty():\n",
    "            return Empty\n",
    "        return self._data[self._front]\n",
    "\n",
    "    def last(self):\n",
    "        if self.is_empty():\n",
    "            return Empty\n",
    "        return self._data[(self._front + self._size - 1) % len(self._data)]\n",
    "\n",
    "    def _resize(self, cap):\n",
    "        temp = [None] * cap\n",
    "        for i in range(self._size):\n",
    "            temp[i] = self._data[(self._front + i) % len(self._data)]\n",
    "        self._data = temp\n",
    "        self._front = 0\n",
    "\n",
    "    def add_first(self, val):\n",
    "        if self._size == len(self._data):\n",
    "            self._resize(2 * len(self._data))\n",
    "        if self._front == -1:\n",
    "            new_front = 0\n",
    "        elif self._front == 0:\n",
    "            new_front = len(self._data) - 1\n",
    "        else:\n",
    "            new_front = self._front - 1\n",
    "        self._data[new_front] = val\n",
    "        self._front = new_front\n",
    "        self._size += 1\n",
    "\n",
    "    def add_last(self, val):\n",
    "        if self._size == len(self._data):\n",
    "            self._resize(2 * len(self._data))\n",
    "        self._data[(self._front + self._size) % len(self._data)] = val\n",
    "        self._size += 1\n",
    "\n",
    "    def delete_first(self):\n",
    "        if self._size < len(self._data) // 4:\n",
    "            self._resize(len(self._data) // 2)\n",
    "        result = self._data[self._front]\n",
    "        self._data[self._front] = None\n",
    "        self._size -= 1\n",
    "        self._front = (self._front + 1) % len(self._data)\n",
    "        return result\n",
    "\n",
    "    def delete_last(self):\n",
    "        if self._size < len(self._data) // 4:\n",
    "            self._resize(len(self._data) // 2)\n",
    "        last_idx = (self._front + self._size - 1) % len(self._data)\n",
    "        result = self._data[last_idx]\n",
    "        self._data[last_idx] = None\n",
    "        self._size -= 1\n",
    "        return result"
   ]
  },
  {
   "cell_type": "markdown",
   "metadata": {},
   "source": [
    "# Q1\n",
    "\n",
    "What values are returned during the following series of stack operations, if\n",
    "executed upon an initially empty stack? push(5), push(3), pop(), push(2),\n",
    "push(8), pop(), pop(), push(9), push(1), pop(), push(7), push(6), pop(),\n",
    "pop(), push(4), pop(), pop().\n",
    "\n",
    "# Ans\n",
    "\n",
    "`3,8,2,1,6,7,4,9`\n"
   ]
  },
  {
   "cell_type": "markdown",
   "metadata": {},
   "source": [
    "# Q2\n",
    "\n",
    "Suppose an initially empty stack S has executed a total of 25 push operations, 12 top operations, and 10 pop operations, 3 of which raised Empty\n",
    "errors that were caught and ignored. What is the current size of S?\n",
    "\n",
    "# Ans\n",
    "\n",
    "**_Effective push gives 25 elements...Effectve pop are 7 only as 3 were empty... and top operations doesn't influence the size so:_**\n",
    "\n",
    "`25-7=18 elements`\n"
   ]
  },
  {
   "cell_type": "markdown",
   "metadata": {},
   "source": [
    "# Q3\n",
    "\n",
    "Implement a function with signature transfer(S, T) that transfers all elements from stack S onto stack T, so that the element that starts at the top\n",
    "of S is the first to be inserted onto T, and the element at the bottom of S\n",
    "ends up at the top of T.\n"
   ]
  },
  {
   "cell_type": "code",
   "execution_count": 9,
   "metadata": {},
   "outputs": [],
   "source": [
    "def transfer(self, other):\n",
    "    if type(self) != type(other):\n",
    "        raise TypeError\n",
    "    for i in range(len(self)):\n",
    "        other.push(self.pop())"
   ]
  },
  {
   "cell_type": "markdown",
   "metadata": {},
   "source": [
    "# Q4\n",
    "\n",
    "Give a recursive method for removing all the elements from a stack.\n"
   ]
  },
  {
   "cell_type": "code",
   "execution_count": 10,
   "metadata": {},
   "outputs": [],
   "source": [
    "def recur_pop(self):\n",
    "    if self.is_empty():\n",
    "        return \"Already Empty\"\n",
    "    self.pop()\n",
    "    return self.recur_pop(self)"
   ]
  },
  {
   "cell_type": "markdown",
   "metadata": {},
   "source": [
    "# Q5\n",
    "\n",
    "Implement a function that reverses a list of elements by pushing them onto\n",
    "a stack in one order, and writing them back to the list in reversed order.\n"
   ]
  },
  {
   "cell_type": "code",
   "execution_count": 11,
   "metadata": {},
   "outputs": [],
   "source": [
    "def reverse_list(ls: list):\n",
    "    S = ArrayStack()\n",
    "    for i in range(len(ls)):\n",
    "        S.push(ls[i])\n",
    "    ls = []\n",
    "    while not S.is_empty():\n",
    "        ls.append(S.pop())\n",
    "\n",
    "    return ls"
   ]
  },
  {
   "cell_type": "code",
   "execution_count": 12,
   "metadata": {},
   "outputs": [
    {
     "data": {
      "text/plain": [
       "[5, 10, 3, 2, 1]"
      ]
     },
     "execution_count": 12,
     "metadata": {},
     "output_type": "execute_result"
    }
   ],
   "source": [
    "list1 = [1, 2, 3, 10, 5]\n",
    "reverse_list(list1)"
   ]
  },
  {
   "cell_type": "markdown",
   "metadata": {},
   "source": [
    "# Q6\n",
    "\n",
    "Give a precise and complete definition of the concept of matching for\n",
    "grouping symbols in an arithmetic expression. Your definition may be\n",
    "recursive\n"
   ]
  },
  {
   "cell_type": "code",
   "execution_count": 69,
   "metadata": {},
   "outputs": [],
   "source": [
    "def matching_paranthesis(expr, stack=None):\n",
    "    left = \"([{\"\n",
    "    right = \")]}\"\n",
    "    if stack is None:\n",
    "        stack = ArrayStack()\n",
    "    if len(expr) == 0:\n",
    "        return stack.is_empty()\n",
    "\n",
    "    print(expr[0])\n",
    "\n",
    "    if expr[0] in left:\n",
    "        stack.push(expr[0])\n",
    "        return matching_paranthesis(expr[1:], stack)\n",
    "\n",
    "    elif expr[0] in right:\n",
    "        if stack.is_empty() or right.index(expr[0]) != left.index(stack.pop()):\n",
    "\n",
    "            return False\n",
    "        else:\n",
    "            return matching_paranthesis(expr=expr[1:], stack=stack)\n",
    "    else:\n",
    "        return matching_paranthesis(expr[1:], stack)"
   ]
  },
  {
   "cell_type": "code",
   "execution_count": 92,
   "metadata": {},
   "outputs": [
    {
     "name": "stdout",
     "output_type": "stream",
     "text": [
      "(\n",
      ")\n",
      "]\n"
     ]
    },
    {
     "data": {
      "text/plain": [
       "False"
      ]
     },
     "execution_count": 92,
     "metadata": {},
     "output_type": "execute_result"
    }
   ],
   "source": [
    "exp = \"()][\"\n",
    "\n",
    "matching_paranthesis(exp)"
   ]
  },
  {
   "cell_type": "markdown",
   "metadata": {},
   "source": [
    "# Q7\n",
    "\n",
    "What values are returned during the following sequence of queue opera\u0002tions, if executed on an initially empty queue? enqueue(5), enqueue(3),\n",
    "dequeue(), enqueue(2), enqueue(8), dequeue(), dequeue(), enqueue(9),\n",
    "enqueue(1), dequeue(), enqueue(7), enqueue(6), dequeue(), dequeue(),\n",
    "enqueue(4), dequeue(), dequeue().\n",
    "\n",
    "`5, 3, 2, 8, 9, 1, 7, 6`\n"
   ]
  },
  {
   "cell_type": "markdown",
   "metadata": {},
   "source": [
    "# Q8\n",
    "\n",
    "Suppose an initially empty queue Q has executed a total of 32 enqueue\n",
    "operations, 10 first operations, and 15 dequeue operations, 5 of which\n",
    "raised Empty errors that were caught and ignored. What is the current\n",
    "size of Q?\n",
    "\n",
    "`22`\n"
   ]
  },
  {
   "cell_type": "markdown",
   "metadata": {},
   "source": [
    "# Q9\n",
    "\n",
    "Had the queue of the previous problem been an instance of ArrayQueue\n",
    "that used an initial array of capacity 30, and had its size never been greater\n",
    "than 30, what would be the final value of the front instance variable?|\n",
    "\n",
    "`10 element from inital start`\n"
   ]
  },
  {
   "cell_type": "markdown",
   "metadata": {},
   "source": []
  }
 ],
 "metadata": {
  "kernelspec": {
   "display_name": "Python 3",
   "language": "python",
   "name": "python3"
  },
  "language_info": {
   "codemirror_mode": {
    "name": "ipython",
    "version": 3
   },
   "file_extension": ".py",
   "mimetype": "text/x-python",
   "name": "python",
   "nbconvert_exporter": "python",
   "pygments_lexer": "ipython3",
   "version": "3.12.3"
  }
 },
 "nbformat": 4,
 "nbformat_minor": 2
}
