{
 "cells": [
  {
   "cell_type": "markdown",
   "metadata": {},
   "source": [
    "<img src =\"Screenshot 2024-07-29 022840.png\">\n"
   ]
  },
  {
   "cell_type": "markdown",
   "metadata": {},
   "source": [
    "# 1. Two Sum\n",
    "\n",
    "Given an array of integers nums and an integer target, return indices of the two numbers such that they add up to target.\n",
    "\n",
    "You may assume that each input would have exactly one solution, and you may not use the same element twice.\n",
    "\n",
    "You can return the answer in any order.\n"
   ]
  },
  {
   "cell_type": "code",
   "execution_count": 91,
   "metadata": {},
   "outputs": [],
   "source": [
    "class Solution(object):\n",
    "    def twoSum(self, nums, target):\n",
    "        n = len(nums)\n",
    "        c = []\n",
    "        for i in range(n - 1):\n",
    "            print(nums[i])\n",
    "            for j in range(i + 1, n):\n",
    "                if nums[i] + nums[j] == target:\n",
    "                    c.append(i)\n",
    "                    c.append(j)\n",
    "                    return c\n",
    "\n",
    "        return []"
   ]
  },
  {
   "cell_type": "code",
   "execution_count": 95,
   "metadata": {},
   "outputs": [
    {
     "name": "stdout",
     "output_type": "stream",
     "text": [
      "3\n"
     ]
    },
    {
     "data": {
      "text/plain": [
       "[0, 2]"
      ]
     },
     "execution_count": 95,
     "metadata": {},
     "output_type": "execute_result"
    }
   ],
   "source": [
    "a = Solution()\n",
    "a.twoSum([3, 2, 3], 6)"
   ]
  },
  {
   "cell_type": "code",
   "execution_count": 31,
   "metadata": {},
   "outputs": [],
   "source": [
    "class Solution(object):\n",
    "    def isPalindrome(self, x):\n",
    "        \"\"\"\n",
    "        :type x: int\n",
    "        :rtype: bool\n",
    "        \"\"\"\n",
    "        x = str(x)\n",
    "        x = list(x)\n",
    "        start = 0\n",
    "        end = len(x) - 1\n",
    "        while start <= end:\n",
    "            print(x[start], x[end])\n",
    "            if x[start] == x[end]:\n",
    "                start += 1\n",
    "                end -= 1\n",
    "\n",
    "            else:\n",
    "                start = -1\n",
    "                break\n",
    "\n",
    "        return False if start == -1 else True"
   ]
  },
  {
   "cell_type": "code",
   "execution_count": null,
   "metadata": {},
   "outputs": [],
   "source": [
    "# class Solution(object):\n",
    "#     def isPalindrome(self, x):\n",
    "#         # Check for negative numbers or if the number ends with 0 (but is not 0 itself)\n",
    "#         if x < 0 or (x != 0 and x % 10 == 0):\n",
    "#             return False\n",
    "\n",
    "#         half_palindrome = 0\n",
    "#         while x > half_palindrome:\n",
    "#             # Get the last digit of x and add it to half_palindrome\n",
    "#             half_palindrome = (half_palindrome * 10) + (x % 10)\n",
    "#             # Remove the last digit from x\n",
    "#             x = x // 10\n",
    "\n",
    "#         # Check if the original number is equal to the reversed half\n",
    "#         # or if the original number without its middle digit is equal to the reversed half\n",
    "#         return x == half_palindrome or x == half_palindrome // 10"
   ]
  },
  {
   "cell_type": "code",
   "execution_count": 34,
   "metadata": {},
   "outputs": [
    {
     "name": "stdout",
     "output_type": "stream",
     "text": [
      "1 1\n",
      "0 0\n"
     ]
    },
    {
     "data": {
      "text/plain": [
       "True"
      ]
     },
     "execution_count": 34,
     "metadata": {},
     "output_type": "execute_result"
    }
   ],
   "source": [
    "a = Solution()\n",
    "a.isPalindrome(1001)"
   ]
  },
  {
   "cell_type": "code",
   "execution_count": 4,
   "metadata": {},
   "outputs": [
    {
     "data": {
      "text/plain": [
       "1"
      ]
     },
     "execution_count": 4,
     "metadata": {},
     "output_type": "execute_result"
    }
   ],
   "source": [
    "DCT = {\"I\": 1, \"V\": 5, \"X\": 10, \"L\": 50, \"C\": 100, \"D\": 500, \"M\": 1000}\n",
    "\n",
    "i = \"I\"\n",
    "DCT[i]"
   ]
  },
  {
   "cell_type": "markdown",
   "metadata": {},
   "source": [
    "# 13. Roman to Integer\n"
   ]
  },
  {
   "cell_type": "code",
   "execution_count": 7,
   "metadata": {},
   "outputs": [],
   "source": [
    "class Solution(object):\n",
    "    def romanToInt(self, s):\n",
    "        DCT = {\"I\": 1, \"V\": 5, \"X\": 10, \"L\": 50, \"C\": 100, \"D\": 500, \"M\": 1000}\n",
    "\n",
    "        ans = 0\n",
    "        for i in range(len(s)):\n",
    "            if i < (len(s) - 1) and DCT[s[i]] < DCT[s[i + 1]]:\n",
    "                ans -= DCT[s[i]]\n",
    "            else:\n",
    "                ans += DCT[s[i]]\n",
    "        return ans"
   ]
  },
  {
   "cell_type": "code",
   "execution_count": 9,
   "metadata": {},
   "outputs": [
    {
     "data": {
      "text/plain": [
       "58"
      ]
     },
     "execution_count": 9,
     "metadata": {},
     "output_type": "execute_result"
    }
   ],
   "source": [
    "a = Solution()\n",
    "a.romanToInt(\"LVIII\")"
   ]
  },
  {
   "cell_type": "markdown",
   "metadata": {},
   "source": [
    "# 26. Remove Duplicates from Sorted Array\n"
   ]
  },
  {
   "cell_type": "code",
   "execution_count": 124,
   "metadata": {},
   "outputs": [],
   "source": [
    "class Solution(object):\n",
    "    def removeDuplicates(self, nums):\n",
    "        \"\"\"\n",
    "        :type nums: List[int]\n",
    "        :rtype: int\n",
    "        \"\"\"\n",
    "        count = 0\n",
    "        nums2 = []\n",
    "        m = len(nums)\n",
    "        for i in range(0, len(nums) - 1):\n",
    "\n",
    "            for j in range(i + 1, len(nums)):\n",
    "\n",
    "                if nums[i] is nums[j] and i != j:\n",
    "                    nums[j] = None\n",
    "\n",
    "        for i in range(0, len(nums)):\n",
    "            if nums[i] is not None:\n",
    "                nums2.append(nums[i])\n",
    "        nums = nums2\n",
    "        count = len(nums2)\n",
    "\n",
    "        print(type(count))\n",
    "        return count"
   ]
  },
  {
   "cell_type": "code",
   "execution_count": 125,
   "metadata": {},
   "outputs": [
    {
     "name": "stdout",
     "output_type": "stream",
     "text": [
      "<class 'int'>\n"
     ]
    },
    {
     "data": {
      "text/plain": [
       "5"
      ]
     },
     "execution_count": 125,
     "metadata": {},
     "output_type": "execute_result"
    }
   ],
   "source": [
    "a = Solution()\n",
    "a.removeDuplicates([0, 0, 1, 1, 1, 2, 2, 3, 3, 4])"
   ]
  },
  {
   "cell_type": "code",
   "execution_count": 2,
   "metadata": {},
   "outputs": [],
   "source": [
    "from typing import List"
   ]
  },
  {
   "cell_type": "code",
   "execution_count": 4,
   "metadata": {},
   "outputs": [],
   "source": [
    "class Solution:\n",
    "    def removeDuplicates(self, nums: List[int]) -> int:\n",
    "        \"\"\"\n",
    "        :type nums: List[int]\n",
    "        :rtype: int\n",
    "        \"\"\"\n",
    "        k = 0\n",
    "        m = len(nums) - 1\n",
    "        for i in range(0, len(nums) - 1):\n",
    "\n",
    "            for j in range(i + 1, len(nums)):\n",
    "\n",
    "                if nums[i] is nums[j] and i != j:\n",
    "                    nums[j] = None\n",
    "        while nums[m] != nums[0]:\n",
    "            if nums[m] is None:\n",
    "                del nums[m]\n",
    "                m = m - 1\n",
    "\n",
    "            else:\n",
    "                m = m - 1\n",
    "\n",
    "        k = len(nums)\n",
    "\n",
    "        return k, nums"
   ]
  },
  {
   "cell_type": "code",
   "execution_count": 7,
   "metadata": {},
   "outputs": [],
   "source": [
    "a = Solution()\n",
    "le, li = a.removeDuplicates(\n",
    "    [\n",
    "        -50,\n",
    "        -50,\n",
    "        -49,\n",
    "        -48,\n",
    "        -47,\n",
    "        -47,\n",
    "        -47,\n",
    "        -46,\n",
    "        -45,\n",
    "        -43,\n",
    "        -42,\n",
    "        -41,\n",
    "        -40,\n",
    "        -40,\n",
    "        -40,\n",
    "        -40,\n",
    "        -40,\n",
    "        -40,\n",
    "        -39,\n",
    "        -38,\n",
    "        -38,\n",
    "        -38,\n",
    "        -38,\n",
    "        -37,\n",
    "        -36,\n",
    "        -35,\n",
    "        -34,\n",
    "        -34,\n",
    "        -34,\n",
    "        -33,\n",
    "        -32,\n",
    "        -31,\n",
    "        -30,\n",
    "        -28,\n",
    "        -27,\n",
    "        -26,\n",
    "        -26,\n",
    "        -26,\n",
    "        -25,\n",
    "        -25,\n",
    "        -24,\n",
    "        -24,\n",
    "        -24,\n",
    "        -22,\n",
    "        -22,\n",
    "        -21,\n",
    "        -21,\n",
    "        -21,\n",
    "        -21,\n",
    "        -21,\n",
    "        -20,\n",
    "        -19,\n",
    "        -18,\n",
    "        -18,\n",
    "        -18,\n",
    "        -17,\n",
    "        -17,\n",
    "        -17,\n",
    "        -17,\n",
    "        -17,\n",
    "        -16,\n",
    "        -16,\n",
    "        -15,\n",
    "        -14,\n",
    "        -14,\n",
    "        -14,\n",
    "        -13,\n",
    "        -13,\n",
    "        -12,\n",
    "        -12,\n",
    "        -10,\n",
    "        -10,\n",
    "        -9,\n",
    "        -8,\n",
    "        -8,\n",
    "        -7,\n",
    "        -7,\n",
    "        -6,\n",
    "        -5,\n",
    "        -4,\n",
    "        -4,\n",
    "        -4,\n",
    "        -3,\n",
    "        -1,\n",
    "        1,\n",
    "        2,\n",
    "        2,\n",
    "        3,\n",
    "        4,\n",
    "        5,\n",
    "        6,\n",
    "        6,\n",
    "        7,\n",
    "        8,\n",
    "        8,\n",
    "        9,\n",
    "        9,\n",
    "        10,\n",
    "        10,\n",
    "        10,\n",
    "        11,\n",
    "        11,\n",
    "        12,\n",
    "        12,\n",
    "        13,\n",
    "        13,\n",
    "        13,\n",
    "        14,\n",
    "        14,\n",
    "        14,\n",
    "        15,\n",
    "        16,\n",
    "        17,\n",
    "        17,\n",
    "        18,\n",
    "        20,\n",
    "        21,\n",
    "        22,\n",
    "        22,\n",
    "        22,\n",
    "        23,\n",
    "        23,\n",
    "        25,\n",
    "        26,\n",
    "        28,\n",
    "        29,\n",
    "        29,\n",
    "        29,\n",
    "        30,\n",
    "        31,\n",
    "        31,\n",
    "        32,\n",
    "        33,\n",
    "        34,\n",
    "        34,\n",
    "        34,\n",
    "        36,\n",
    "        36,\n",
    "        37,\n",
    "        37,\n",
    "        38,\n",
    "        38,\n",
    "        38,\n",
    "        39,\n",
    "        40,\n",
    "        40,\n",
    "        40,\n",
    "        41,\n",
    "        42,\n",
    "        42,\n",
    "        43,\n",
    "        43,\n",
    "        44,\n",
    "        44,\n",
    "        45,\n",
    "        45,\n",
    "        45,\n",
    "        46,\n",
    "        47,\n",
    "        47,\n",
    "        47,\n",
    "        47,\n",
    "        48,\n",
    "        49,\n",
    "        49,\n",
    "        49,\n",
    "        50,\n",
    "    ]\n",
    ")"
   ]
  },
  {
   "cell_type": "code",
   "execution_count": 6,
   "metadata": {},
   "outputs": [
    {
     "data": {
      "text/plain": [
       "91"
      ]
     },
     "execution_count": 6,
     "metadata": {},
     "output_type": "execute_result"
    }
   ],
   "source": [
    "c = [\n",
    "    -50,\n",
    "    -49,\n",
    "    -48,\n",
    "    -47,\n",
    "    -46,\n",
    "    -45,\n",
    "    -43,\n",
    "    -42,\n",
    "    -41,\n",
    "    -40,\n",
    "    -39,\n",
    "    -38,\n",
    "    -37,\n",
    "    -36,\n",
    "    -35,\n",
    "    -34,\n",
    "    -33,\n",
    "    -32,\n",
    "    -31,\n",
    "    -30,\n",
    "    -28,\n",
    "    -27,\n",
    "    -26,\n",
    "    -25,\n",
    "    -24,\n",
    "    -22,\n",
    "    -21,\n",
    "    -20,\n",
    "    -19,\n",
    "    -18,\n",
    "    -17,\n",
    "    -16,\n",
    "    -15,\n",
    "    -14,\n",
    "    -13,\n",
    "    -12,\n",
    "    -10,\n",
    "    -9,\n",
    "    -8,\n",
    "    -7,\n",
    "    -6,\n",
    "    -5,\n",
    "    -4,\n",
    "    -3,\n",
    "    -1,\n",
    "    1,\n",
    "    2,\n",
    "    3,\n",
    "    4,\n",
    "    5,\n",
    "    6,\n",
    "    7,\n",
    "    8,\n",
    "    9,\n",
    "    10,\n",
    "    11,\n",
    "    12,\n",
    "    13,\n",
    "    14,\n",
    "    15,\n",
    "    16,\n",
    "    17,\n",
    "    18,\n",
    "    20,\n",
    "    21,\n",
    "    22,\n",
    "    23,\n",
    "    25,\n",
    "    26,\n",
    "    28,\n",
    "    29,\n",
    "    30,\n",
    "    31,\n",
    "    32,\n",
    "    33,\n",
    "    34,\n",
    "    36,\n",
    "    37,\n",
    "    38,\n",
    "    39,\n",
    "    40,\n",
    "    41,\n",
    "    42,\n",
    "    43,\n",
    "    44,\n",
    "    45,\n",
    "    46,\n",
    "    47,\n",
    "    48,\n",
    "    49,\n",
    "    50,\n",
    "]\n",
    "len(c)"
   ]
  },
  {
   "cell_type": "code",
   "execution_count": 8,
   "metadata": {},
   "outputs": [
    {
     "name": "stdout",
     "output_type": "stream",
     "text": [
      "True\n"
     ]
    }
   ],
   "source": [
    "print(li == c)"
   ]
  },
  {
   "cell_type": "code",
   "execution_count": 184,
   "metadata": {},
   "outputs": [],
   "source": [
    "class Solution:\n",
    "    def removeElement(self, nums: List[int], val: int) -> int:\n",
    "        k = 0\n",
    "        m = len(nums) - 1\n",
    "        while m >= 0:\n",
    "            if nums[m] is val:\n",
    "                del nums[m]\n",
    "                m = m - 1\n",
    "            else:\n",
    "                m = m - 1\n",
    "\n",
    "        k = len(nums)\n",
    "\n",
    "        return k, nums"
   ]
  },
  {
   "cell_type": "code",
   "execution_count": 186,
   "metadata": {},
   "outputs": [
    {
     "data": {
      "text/plain": [
       "(5, [0, 1, 3, 0, 4])"
      ]
     },
     "execution_count": 186,
     "metadata": {},
     "output_type": "execute_result"
    }
   ],
   "source": [
    "a = Solution()\n",
    "a.removeElement([0, 1, 2, 2, 3, 0, 4, 2], 2)"
   ]
  },
  {
   "cell_type": "markdown",
   "metadata": {},
   "source": [
    "# 35 Search Insert Position\n"
   ]
  },
  {
   "cell_type": "code",
   "execution_count": 16,
   "metadata": {},
   "outputs": [],
   "source": [
    "from typing import List\n",
    "\n",
    "\n",
    "class Solution:\n",
    "    def searchInsert(self, nums: List[int], target: int) -> int:\n",
    "        mid = len(nums) // 2\n",
    "        st = 0\n",
    "        ed = len(nums) - 1\n",
    "        while st <= ed:\n",
    "            mid = (st + ed) // 2\n",
    "            if nums[mid] < target:  # so no need to look at anything behind the mid\n",
    "                st = mid + 1\n",
    "            elif nums[mid] > target:  # similar logic no need to look beyond mid\n",
    "                ed = mid - 1\n",
    "            else:\n",
    "                return mid\n",
    "        return st  # this denotes that the element wasn't found in the list but if it had been there it would have been at this index"
   ]
  },
  {
   "cell_type": "markdown",
   "metadata": {},
   "source": [
    "# 66 Plus One\n"
   ]
  },
  {
   "cell_type": "code",
   "execution_count": 35,
   "metadata": {},
   "outputs": [],
   "source": [
    "class Solution:\n",
    "    def plusOne(self, digits: List[int]) -> List[int]:\n",
    "        ele = []\n",
    "        re = []\n",
    "        for i in range(len(digits)):\n",
    "            ele.append(str(digits[i]))\n",
    "\n",
    "        ele = \"\".join(ele)\n",
    "        ele = int(ele)\n",
    "        ele += 1\n",
    "        ele = str(ele)\n",
    "        for i in range(len(ele)):\n",
    "            re.append(int(ele[i]))\n",
    "        return re"
   ]
  },
  {
   "cell_type": "code",
   "execution_count": 37,
   "metadata": {},
   "outputs": [],
   "source": [
    "# optimal solution\n",
    "class Solution:\n",
    "    def plusOne(self, digits: List[int]) -> List[int]:\n",
    "        # start from the back\n",
    "        for i in range(len(digits) - 1, -1, -1):  # reverse traversal\n",
    "            if digits[i] == 9:\n",
    "                digits[i] = 0\n",
    "            else:\n",
    "                digits[i] = digits[i] + 1\n",
    "                return digits\n",
    "        return [1] + digits"
   ]
  },
  {
   "cell_type": "markdown",
   "metadata": {},
   "source": [
    "# 88 Merge Sorted Array\n"
   ]
  },
  {
   "cell_type": "code",
   "execution_count": 70,
   "metadata": {},
   "outputs": [],
   "source": []
  },
  {
   "cell_type": "code",
   "execution_count": 71,
   "metadata": {},
   "outputs": [
    {
     "name": "stdout",
     "output_type": "stream",
     "text": [
      "1 0 0\n",
      "ACT2\n",
      "ACT2\n",
      "ACT3\n"
     ]
    },
    {
     "data": {
      "text/plain": [
       "[1, 1]"
      ]
     },
     "execution_count": 71,
     "metadata": {},
     "output_type": "execute_result"
    }
   ],
   "source": [
    "a = Solution()\n",
    "a.merge([2, 0], 1, [1], 1)"
   ]
  },
  {
   "cell_type": "code",
   "execution_count": null,
   "metadata": {},
   "outputs": [],
   "source": []
  }
 ],
 "metadata": {
  "kernelspec": {
   "display_name": "Python 3",
   "language": "python",
   "name": "python3"
  },
  "language_info": {
   "codemirror_mode": {
    "name": "ipython",
    "version": 3
   },
   "file_extension": ".py",
   "mimetype": "text/x-python",
   "name": "python",
   "nbconvert_exporter": "python",
   "pygments_lexer": "ipython3",
   "version": "3.12.3"
  }
 },
 "nbformat": 4,
 "nbformat_minor": 2
}
